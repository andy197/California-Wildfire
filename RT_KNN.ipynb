{
 "cells": [
  {
   "cell_type": "markdown",
   "metadata": {},
   "source": [
    "Random Forest, kNN, VIF, heat map. "
   ]
  },
  {
   "cell_type": "code",
   "execution_count": 1,
   "metadata": {},
   "outputs": [],
   "source": [
    "import sklearn as sl\n",
    "RSEED = 50\n",
    "\n",
    "import numpy as np\n",
    "import pandas as pd\n",
    "import warnings\n",
    "\n",
    "## Plotting libraries\n",
    "import seaborn as sns\n",
    "import matplotlib.pyplot as plt\n",
    "\n",
    "## Sklearn Libraries\n",
    "from sklearn.utils import shuffle\n",
    "from sklearn.preprocessing import StandardScaler\n",
    "from sklearn.model_selection import train_test_split\n",
    "from sklearn.model_selection import StratifiedKFold\n",
    "from sklearn.model_selection import cross_val_score\n",
    "from sklearn.ensemble import RandomForestClassifier\n",
    "from sklearn.ensemble import RandomForestRegressor\n",
    "from sklearn.model_selection import GridSearchCV\n",
    "from sklearn.metrics import make_scorer\n",
    "from sklearn.metrics import f1_score, confusion_matrix, roc_curve, auc, \\\n",
    "            classification_report, recall_score, precision_recall_curve\n",
    "\n",
    "from sklearn.model_selection import train_test_split\n",
    "from sqlalchemy import create_engine"
   ]
  },
  {
   "cell_type": "code",
   "execution_count": 370,
   "metadata": {},
   "outputs": [
    {
     "data": {
      "text/html": [
       "<div>\n",
       "<style scoped>\n",
       "    .dataframe tbody tr th:only-of-type {\n",
       "        vertical-align: middle;\n",
       "    }\n",
       "\n",
       "    .dataframe tbody tr th {\n",
       "        vertical-align: top;\n",
       "    }\n",
       "\n",
       "    .dataframe thead th {\n",
       "        text-align: right;\n",
       "    }\n",
       "</style>\n",
       "<table border=\"1\" class=\"dataframe\">\n",
       "  <thead>\n",
       "    <tr style=\"text-align: right;\">\n",
       "      <th></th>\n",
       "      <th>lat_rnd</th>\n",
       "      <th>lon_rnd</th>\n",
       "      <th>fpi_date</th>\n",
       "      <th>fire_occurrence</th>\n",
       "      <th>max_fpi</th>\n",
       "      <th>min_fpi</th>\n",
       "      <th>avg_fpi</th>\n",
       "      <th>array_fpi</th>\n",
       "      <th>array_fod_lat</th>\n",
       "      <th>array_fod_lon</th>\n",
       "      <th>array_fpi_lat</th>\n",
       "      <th>array_fpi_lon</th>\n",
       "      <th>array_fod_id</th>\n",
       "      <th>rolled_up_rows</th>\n",
       "    </tr>\n",
       "  </thead>\n",
       "  <tbody>\n",
       "    <tr>\n",
       "      <th>70674</th>\n",
       "      <td>41.5</td>\n",
       "      <td>-123.5</td>\n",
       "      <td>7/1/2009</td>\n",
       "      <td>0</td>\n",
       "      <td>54</td>\n",
       "      <td>28</td>\n",
       "      <td>43.666667</td>\n",
       "      <td>{49,54,28}</td>\n",
       "      <td>{[NULL],[NULL],[NULL]}</td>\n",
       "      <td>{[NULL],[NULL],[NULL]}</td>\n",
       "      <td>{41.482369280673524,41.52506366231834,41.53783...</td>\n",
       "      <td>{-123.50441028179901,-123.52093260975258,-123....</td>\n",
       "      <td>{[NULL],[NULL],[NULL]}</td>\n",
       "      <td>3</td>\n",
       "    </tr>\n",
       "    <tr>\n",
       "      <th>83043</th>\n",
       "      <td>41.6</td>\n",
       "      <td>-121.9</td>\n",
       "      <td>7/1/2009</td>\n",
       "      <td>0</td>\n",
       "      <td>82</td>\n",
       "      <td>69</td>\n",
       "      <td>75.500000</td>\n",
       "      <td>{69,82}</td>\n",
       "      <td>{[NULL],[NULL]}</td>\n",
       "      <td>{[NULL],[NULL]}</td>\n",
       "      <td>{41.58909630159099,41.64400190489369}</td>\n",
       "      <td>{-121.90513105280989,-121.8619481159476}</td>\n",
       "      <td>{[NULL],[NULL]}</td>\n",
       "      <td>2</td>\n",
       "    </tr>\n",
       "    <tr>\n",
       "      <th>86081</th>\n",
       "      <td>41.6</td>\n",
       "      <td>-120.5</td>\n",
       "      <td>7/1/2009</td>\n",
       "      <td>0</td>\n",
       "      <td>85</td>\n",
       "      <td>42</td>\n",
       "      <td>72.800000</td>\n",
       "      <td>{42,85,79,81,77}</td>\n",
       "      <td>{[NULL],[NULL],[NULL],[NULL],[NULL]}</td>\n",
       "      <td>{[NULL],[NULL],[NULL],[NULL],[NULL]}</td>\n",
       "      <td>{41.55228514341317,41.638783865883596,41.58437...</td>\n",
       "      <td>{-120.4510081792993,-120.47988829132532,-120.5...</td>\n",
       "      <td>{[NULL],[NULL],[NULL],[NULL],[NULL]}</td>\n",
       "      <td>5</td>\n",
       "    </tr>\n",
       "    <tr>\n",
       "      <th>83477</th>\n",
       "      <td>41.6</td>\n",
       "      <td>-121.7</td>\n",
       "      <td>7/1/2009</td>\n",
       "      <td>0</td>\n",
       "      <td>58</td>\n",
       "      <td>48</td>\n",
       "      <td>52.250000</td>\n",
       "      <td>{48,52,51,58}</td>\n",
       "      <td>{[NULL],[NULL],[NULL],[NULL]}</td>\n",
       "      <td>{[NULL],[NULL],[NULL],[NULL]}</td>\n",
       "      <td>{41.58168000346505,41.593478488934466,41.63651...</td>\n",
       "      <td>{-121.71393828053326,-121.65531320466623,-121....</td>\n",
       "      <td>{[NULL],[NULL],[NULL],[NULL]}</td>\n",
       "      <td>4</td>\n",
       "    </tr>\n",
       "    <tr>\n",
       "      <th>54399</th>\n",
       "      <td>41.3</td>\n",
       "      <td>-122.9</td>\n",
       "      <td>7/1/2009</td>\n",
       "      <td>0</td>\n",
       "      <td>65</td>\n",
       "      <td>26</td>\n",
       "      <td>38.000000</td>\n",
       "      <td>{42,30,26,65,27}</td>\n",
       "      <td>{[NULL],[NULL],[NULL],[NULL],[NULL]}</td>\n",
       "      <td>{[NULL],[NULL],[NULL],[NULL],[NULL]}</td>\n",
       "      <td>{41.29639700173343,41.3392210195189,41.2535684...</td>\n",
       "      <td>{-122.86654599481663,-122.88253843884694,-122....</td>\n",
       "      <td>{[NULL],[NULL],[NULL],[NULL],[NULL]}</td>\n",
       "      <td>5</td>\n",
       "    </tr>\n",
       "  </tbody>\n",
       "</table>\n",
       "</div>"
      ],
      "text/plain": [
       "       lat_rnd  lon_rnd  fpi_date  fire_occurrence  max_fpi  min_fpi  \\\n",
       "70674     41.5   -123.5  7/1/2009                0       54       28   \n",
       "83043     41.6   -121.9  7/1/2009                0       82       69   \n",
       "86081     41.6   -120.5  7/1/2009                0       85       42   \n",
       "83477     41.6   -121.7  7/1/2009                0       58       48   \n",
       "54399     41.3   -122.9  7/1/2009                0       65       26   \n",
       "\n",
       "         avg_fpi         array_fpi                         array_fod_lat  \\\n",
       "70674  43.666667        {49,54,28}                {[NULL],[NULL],[NULL]}   \n",
       "83043  75.500000           {69,82}                       {[NULL],[NULL]}   \n",
       "86081  72.800000  {42,85,79,81,77}  {[NULL],[NULL],[NULL],[NULL],[NULL]}   \n",
       "83477  52.250000     {48,52,51,58}         {[NULL],[NULL],[NULL],[NULL]}   \n",
       "54399  38.000000  {42,30,26,65,27}  {[NULL],[NULL],[NULL],[NULL],[NULL]}   \n",
       "\n",
       "                              array_fod_lon  \\\n",
       "70674                {[NULL],[NULL],[NULL]}   \n",
       "83043                       {[NULL],[NULL]}   \n",
       "86081  {[NULL],[NULL],[NULL],[NULL],[NULL]}   \n",
       "83477         {[NULL],[NULL],[NULL],[NULL]}   \n",
       "54399  {[NULL],[NULL],[NULL],[NULL],[NULL]}   \n",
       "\n",
       "                                           array_fpi_lat  \\\n",
       "70674  {41.482369280673524,41.52506366231834,41.53783...   \n",
       "83043              {41.58909630159099,41.64400190489369}   \n",
       "86081  {41.55228514341317,41.638783865883596,41.58437...   \n",
       "83477  {41.58168000346505,41.593478488934466,41.63651...   \n",
       "54399  {41.29639700173343,41.3392210195189,41.2535684...   \n",
       "\n",
       "                                           array_fpi_lon  \\\n",
       "70674  {-123.50441028179901,-123.52093260975258,-123....   \n",
       "83043           {-121.90513105280989,-121.8619481159476}   \n",
       "86081  {-120.4510081792993,-120.47988829132532,-120.5...   \n",
       "83477  {-121.71393828053326,-121.65531320466623,-121....   \n",
       "54399  {-122.86654599481663,-122.88253843884694,-122....   \n",
       "\n",
       "                               array_fod_id  rolled_up_rows  \n",
       "70674                {[NULL],[NULL],[NULL]}               3  \n",
       "83043                       {[NULL],[NULL]}               2  \n",
       "86081  {[NULL],[NULL],[NULL],[NULL],[NULL]}               5  \n",
       "83477         {[NULL],[NULL],[NULL],[NULL]}               4  \n",
       "54399  {[NULL],[NULL],[NULL],[NULL],[NULL]}               5  "
      ]
     },
     "execution_count": 370,
     "metadata": {},
     "output_type": "execute_result"
    }
   ],
   "source": [
    "dataset = pd.read_csv('WILD_SHORT.csv')\n",
    "dataset = dataset.sort_values(by=\"fpi_date\")\n",
    "dataset.head()"
   ]
  },
  {
   "cell_type": "code",
   "execution_count": 2,
   "metadata": {},
   "outputs": [],
   "source": [
    "%load_ext sql\n",
    "%sql ''\n",
    "engine = create_engine('')"
   ]
  },
  {
   "cell_type": "code",
   "execution_count": 3,
   "metadata": {},
   "outputs": [
    {
     "data": {
      "text/html": [
       "<div>\n",
       "<style scoped>\n",
       "    .dataframe tbody tr th:only-of-type {\n",
       "        vertical-align: middle;\n",
       "    }\n",
       "\n",
       "    .dataframe tbody tr th {\n",
       "        vertical-align: top;\n",
       "    }\n",
       "\n",
       "    .dataframe thead th {\n",
       "        text-align: right;\n",
       "    }\n",
       "</style>\n",
       "<table border=\"1\" class=\"dataframe\">\n",
       "  <thead>\n",
       "    <tr style=\"text-align: right;\">\n",
       "      <th></th>\n",
       "      <th>lat_rnd</th>\n",
       "      <th>lon_rnd</th>\n",
       "      <th>fpi_date</th>\n",
       "      <th>elevation</th>\n",
       "      <th>fire_occurrence</th>\n",
       "      <th>max_fpi</th>\n",
       "      <th>min_fpi</th>\n",
       "      <th>avg_fpi</th>\n",
       "      <th>std_fpi</th>\n",
       "      <th>array_fpi</th>\n",
       "      <th>...</th>\n",
       "      <th>hundred_hour_dead_fuel_moist_percent</th>\n",
       "      <th>precip_amount_mm</th>\n",
       "      <th>max_relative_humidity_percent</th>\n",
       "      <th>min_relative_humidity_percent</th>\n",
       "      <th>specific_humidity_kg_kg</th>\n",
       "      <th>srad_wmm</th>\n",
       "      <th>temp_min_k</th>\n",
       "      <th>temp_max_k</th>\n",
       "      <th>mean_vapor_pressure_deficit_kpa</th>\n",
       "      <th>wind_speed_10m_m_s</th>\n",
       "    </tr>\n",
       "  </thead>\n",
       "  <tbody>\n",
       "    <tr>\n",
       "      <th>0</th>\n",
       "      <td>39.7</td>\n",
       "      <td>-120.9</td>\n",
       "      <td>2013-07-01</td>\n",
       "      <td>1707.0</td>\n",
       "      <td>0</td>\n",
       "      <td>91</td>\n",
       "      <td>34</td>\n",
       "      <td>55.666667</td>\n",
       "      <td>30.859898</td>\n",
       "      <td>[42, 34, 91]</td>\n",
       "      <td>...</td>\n",
       "      <td>6.649947</td>\n",
       "      <td>0.0</td>\n",
       "      <td>37.456738</td>\n",
       "      <td>15.490835</td>\n",
       "      <td>0.006956</td>\n",
       "      <td>320.660095</td>\n",
       "      <td>290.832214</td>\n",
       "      <td>308.543549</td>\n",
       "      <td>2.955878</td>\n",
       "      <td>2.712158</td>\n",
       "    </tr>\n",
       "    <tr>\n",
       "      <th>1</th>\n",
       "      <td>39.7</td>\n",
       "      <td>-120.9</td>\n",
       "      <td>2013-07-02</td>\n",
       "      <td>1707.0</td>\n",
       "      <td>0</td>\n",
       "      <td>40</td>\n",
       "      <td>33</td>\n",
       "      <td>37.333333</td>\n",
       "      <td>3.785939</td>\n",
       "      <td>[33, 40, 39]</td>\n",
       "      <td>...</td>\n",
       "      <td>6.609696</td>\n",
       "      <td>0.0</td>\n",
       "      <td>51.485619</td>\n",
       "      <td>22.338930</td>\n",
       "      <td>0.008567</td>\n",
       "      <td>350.828552</td>\n",
       "      <td>289.635864</td>\n",
       "      <td>306.201141</td>\n",
       "      <td>2.308134</td>\n",
       "      <td>3.813781</td>\n",
       "    </tr>\n",
       "    <tr>\n",
       "      <th>2</th>\n",
       "      <td>39.7</td>\n",
       "      <td>-120.9</td>\n",
       "      <td>2013-07-03</td>\n",
       "      <td>1707.0</td>\n",
       "      <td>0</td>\n",
       "      <td>39</td>\n",
       "      <td>33</td>\n",
       "      <td>36.666667</td>\n",
       "      <td>3.214550</td>\n",
       "      <td>[39, 38, 33]</td>\n",
       "      <td>...</td>\n",
       "      <td>6.531268</td>\n",
       "      <td>0.0</td>\n",
       "      <td>49.455910</td>\n",
       "      <td>22.811262</td>\n",
       "      <td>0.008244</td>\n",
       "      <td>352.115570</td>\n",
       "      <td>289.604675</td>\n",
       "      <td>305.181091</td>\n",
       "      <td>2.208249</td>\n",
       "      <td>4.002340</td>\n",
       "    </tr>\n",
       "    <tr>\n",
       "      <th>3</th>\n",
       "      <td>39.7</td>\n",
       "      <td>-120.9</td>\n",
       "      <td>2013-07-04</td>\n",
       "      <td>1707.0</td>\n",
       "      <td>0</td>\n",
       "      <td>40</td>\n",
       "      <td>32</td>\n",
       "      <td>36.333333</td>\n",
       "      <td>4.041452</td>\n",
       "      <td>[32, 40, 37]</td>\n",
       "      <td>...</td>\n",
       "      <td>6.568206</td>\n",
       "      <td>0.0</td>\n",
       "      <td>48.911915</td>\n",
       "      <td>25.546572</td>\n",
       "      <td>0.007866</td>\n",
       "      <td>355.796600</td>\n",
       "      <td>289.020966</td>\n",
       "      <td>302.512177</td>\n",
       "      <td>1.886343</td>\n",
       "      <td>3.621990</td>\n",
       "    </tr>\n",
       "    <tr>\n",
       "      <th>4</th>\n",
       "      <td>39.7</td>\n",
       "      <td>-120.9</td>\n",
       "      <td>2013-07-05</td>\n",
       "      <td>1707.0</td>\n",
       "      <td>0</td>\n",
       "      <td>38</td>\n",
       "      <td>33</td>\n",
       "      <td>36.000000</td>\n",
       "      <td>2.645751</td>\n",
       "      <td>[37, 38, 33]</td>\n",
       "      <td>...</td>\n",
       "      <td>6.797248</td>\n",
       "      <td>0.0</td>\n",
       "      <td>55.538628</td>\n",
       "      <td>27.341894</td>\n",
       "      <td>0.007576</td>\n",
       "      <td>357.130310</td>\n",
       "      <td>286.633820</td>\n",
       "      <td>300.769348</td>\n",
       "      <td>1.598734</td>\n",
       "      <td>3.730404</td>\n",
       "    </tr>\n",
       "  </tbody>\n",
       "</table>\n",
       "<p>5 rows × 29 columns</p>\n",
       "</div>"
      ],
      "text/plain": [
       "   lat_rnd  lon_rnd    fpi_date  elevation  fire_occurrence  max_fpi  min_fpi  \\\n",
       "0     39.7   -120.9  2013-07-01     1707.0                0       91       34   \n",
       "1     39.7   -120.9  2013-07-02     1707.0                0       40       33   \n",
       "2     39.7   -120.9  2013-07-03     1707.0                0       39       33   \n",
       "3     39.7   -120.9  2013-07-04     1707.0                0       40       32   \n",
       "4     39.7   -120.9  2013-07-05     1707.0                0       38       33   \n",
       "\n",
       "     avg_fpi    std_fpi     array_fpi  ...  \\\n",
       "0  55.666667  30.859898  [42, 34, 91]  ...   \n",
       "1  37.333333   3.785939  [33, 40, 39]  ...   \n",
       "2  36.666667   3.214550  [39, 38, 33]  ...   \n",
       "3  36.333333   4.041452  [32, 40, 37]  ...   \n",
       "4  36.000000   2.645751  [37, 38, 33]  ...   \n",
       "\n",
       "  hundred_hour_dead_fuel_moist_percent precip_amount_mm  \\\n",
       "0                             6.649947              0.0   \n",
       "1                             6.609696              0.0   \n",
       "2                             6.531268              0.0   \n",
       "3                             6.568206              0.0   \n",
       "4                             6.797248              0.0   \n",
       "\n",
       "  max_relative_humidity_percent min_relative_humidity_percent  \\\n",
       "0                     37.456738                     15.490835   \n",
       "1                     51.485619                     22.338930   \n",
       "2                     49.455910                     22.811262   \n",
       "3                     48.911915                     25.546572   \n",
       "4                     55.538628                     27.341894   \n",
       "\n",
       "  specific_humidity_kg_kg    srad_wmm  temp_min_k  temp_max_k  \\\n",
       "0                0.006956  320.660095  290.832214  308.543549   \n",
       "1                0.008567  350.828552  289.635864  306.201141   \n",
       "2                0.008244  352.115570  289.604675  305.181091   \n",
       "3                0.007866  355.796600  289.020966  302.512177   \n",
       "4                0.007576  357.130310  286.633820  300.769348   \n",
       "\n",
       "   mean_vapor_pressure_deficit_kpa  wind_speed_10m_m_s  \n",
       "0                         2.955878            2.712158  \n",
       "1                         2.308134            3.813781  \n",
       "2                         2.208249            4.002340  \n",
       "3                         1.886343            3.621990  \n",
       "4                         1.598734            3.730404  \n",
       "\n",
       "[5 rows x 29 columns]"
      ]
     },
     "execution_count": 3,
     "metadata": {},
     "output_type": "execute_result"
    }
   ],
   "source": [
    "df=pd.read_sql('SELECT * FROM wildfire.combined WHERE extract(month from fpi_date)=7 and extract(year from fpi_date)!=2015',engine)\n",
    "df_test=pd.read_sql('SELECT * FROM wildfire.combined WHERE extract(month from fpi_date)=7 and extract(year from fpi_date)=2015',engine)\n",
    "df.head()"
   ]
  },
  {
   "cell_type": "code",
   "execution_count": 4,
   "metadata": {},
   "outputs": [
    {
     "data": {
      "text/html": [
       "<div>\n",
       "<style scoped>\n",
       "    .dataframe tbody tr th:only-of-type {\n",
       "        vertical-align: middle;\n",
       "    }\n",
       "\n",
       "    .dataframe tbody tr th {\n",
       "        vertical-align: top;\n",
       "    }\n",
       "\n",
       "    .dataframe thead th {\n",
       "        text-align: right;\n",
       "    }\n",
       "</style>\n",
       "<table border=\"1\" class=\"dataframe\">\n",
       "  <thead>\n",
       "    <tr style=\"text-align: right;\">\n",
       "      <th></th>\n",
       "      <th>lat_rnd</th>\n",
       "      <th>lon_rnd</th>\n",
       "      <th>elevation</th>\n",
       "      <th>fire_occurrence</th>\n",
       "      <th>max_fpi</th>\n",
       "      <th>min_fpi</th>\n",
       "      <th>avg_fpi</th>\n",
       "      <th>std_fpi</th>\n",
       "      <th>rolled_up_rows</th>\n",
       "      <th>eng_release_comp_nfdrs</th>\n",
       "      <th>...</th>\n",
       "      <th>hundred_hour_dead_fuel_moist_percent</th>\n",
       "      <th>precip_amount_mm</th>\n",
       "      <th>max_relative_humidity_percent</th>\n",
       "      <th>min_relative_humidity_percent</th>\n",
       "      <th>specific_humidity_kg_kg</th>\n",
       "      <th>srad_wmm</th>\n",
       "      <th>temp_min_k</th>\n",
       "      <th>temp_max_k</th>\n",
       "      <th>mean_vapor_pressure_deficit_kpa</th>\n",
       "      <th>wind_speed_10m_m_s</th>\n",
       "    </tr>\n",
       "  </thead>\n",
       "  <tbody>\n",
       "    <tr>\n",
       "      <th>count</th>\n",
       "      <td>314712.000000</td>\n",
       "      <td>314712.000000</td>\n",
       "      <td>311550.000000</td>\n",
       "      <td>314712.000000</td>\n",
       "      <td>314712.000000</td>\n",
       "      <td>314712.000000</td>\n",
       "      <td>314712.000000</td>\n",
       "      <td>289427.000000</td>\n",
       "      <td>314712.000000</td>\n",
       "      <td>314712.000000</td>\n",
       "      <td>...</td>\n",
       "      <td>314712.000000</td>\n",
       "      <td>314712.000000</td>\n",
       "      <td>314712.000000</td>\n",
       "      <td>314712.000000</td>\n",
       "      <td>314712.000000</td>\n",
       "      <td>314712.000000</td>\n",
       "      <td>314712.000000</td>\n",
       "      <td>314712.000000</td>\n",
       "      <td>314712.000000</td>\n",
       "      <td>314712.000000</td>\n",
       "    </tr>\n",
       "    <tr>\n",
       "      <th>mean</th>\n",
       "      <td>39.803251</td>\n",
       "      <td>-121.835225</td>\n",
       "      <td>909.043582</td>\n",
       "      <td>0.013040</td>\n",
       "      <td>61.700399</td>\n",
       "      <td>43.020841</td>\n",
       "      <td>52.242994</td>\n",
       "      <td>9.981559</td>\n",
       "      <td>3.301418</td>\n",
       "      <td>66.650045</td>\n",
       "      <td>...</td>\n",
       "      <td>8.374815</td>\n",
       "      <td>0.084939</td>\n",
       "      <td>65.401708</td>\n",
       "      <td>23.145190</td>\n",
       "      <td>0.007099</td>\n",
       "      <td>342.205616</td>\n",
       "      <td>286.174699</td>\n",
       "      <td>303.887008</td>\n",
       "      <td>2.014232</td>\n",
       "      <td>3.243794</td>\n",
       "    </tr>\n",
       "    <tr>\n",
       "      <th>std</th>\n",
       "      <td>1.387989</td>\n",
       "      <td>1.135383</td>\n",
       "      <td>666.239292</td>\n",
       "      <td>0.113448</td>\n",
       "      <td>18.451759</td>\n",
       "      <td>19.607659</td>\n",
       "      <td>18.175809</td>\n",
       "      <td>6.416875</td>\n",
       "      <td>1.108860</td>\n",
       "      <td>14.949313</td>\n",
       "      <td>...</td>\n",
       "      <td>2.876200</td>\n",
       "      <td>1.065636</td>\n",
       "      <td>19.724354</td>\n",
       "      <td>10.321427</td>\n",
       "      <td>0.001770</td>\n",
       "      <td>28.579374</td>\n",
       "      <td>4.070490</td>\n",
       "      <td>5.036619</td>\n",
       "      <td>0.788456</td>\n",
       "      <td>1.258708</td>\n",
       "    </tr>\n",
       "    <tr>\n",
       "      <th>min</th>\n",
       "      <td>37.000000</td>\n",
       "      <td>-124.000000</td>\n",
       "      <td>-5.000000</td>\n",
       "      <td>0.000000</td>\n",
       "      <td>0.000000</td>\n",
       "      <td>0.000000</td>\n",
       "      <td>0.000000</td>\n",
       "      <td>0.000000</td>\n",
       "      <td>1.000000</td>\n",
       "      <td>11.100108</td>\n",
       "      <td>...</td>\n",
       "      <td>2.464072</td>\n",
       "      <td>0.000000</td>\n",
       "      <td>10.114160</td>\n",
       "      <td>1.585475</td>\n",
       "      <td>0.002134</td>\n",
       "      <td>101.679878</td>\n",
       "      <td>266.767975</td>\n",
       "      <td>279.190308</td>\n",
       "      <td>0.000000</td>\n",
       "      <td>0.473196</td>\n",
       "    </tr>\n",
       "    <tr>\n",
       "      <th>25%</th>\n",
       "      <td>38.700000</td>\n",
       "      <td>-122.800000</td>\n",
       "      <td>285.000000</td>\n",
       "      <td>0.000000</td>\n",
       "      <td>49.000000</td>\n",
       "      <td>27.000000</td>\n",
       "      <td>37.800000</td>\n",
       "      <td>4.949747</td>\n",
       "      <td>3.000000</td>\n",
       "      <td>56.807896</td>\n",
       "      <td>...</td>\n",
       "      <td>6.295111</td>\n",
       "      <td>0.000000</td>\n",
       "      <td>50.705161</td>\n",
       "      <td>16.110517</td>\n",
       "      <td>0.005878</td>\n",
       "      <td>338.026794</td>\n",
       "      <td>283.415619</td>\n",
       "      <td>300.577423</td>\n",
       "      <td>1.474397</td>\n",
       "      <td>2.431010</td>\n",
       "    </tr>\n",
       "    <tr>\n",
       "      <th>50%</th>\n",
       "      <td>39.900000</td>\n",
       "      <td>-121.800000</td>\n",
       "      <td>872.000000</td>\n",
       "      <td>0.000000</td>\n",
       "      <td>62.000000</td>\n",
       "      <td>37.000000</td>\n",
       "      <td>50.250000</td>\n",
       "      <td>9.073772</td>\n",
       "      <td>3.000000</td>\n",
       "      <td>69.156410</td>\n",
       "      <td>...</td>\n",
       "      <td>7.546464</td>\n",
       "      <td>0.000000</td>\n",
       "      <td>63.501989</td>\n",
       "      <td>21.048738</td>\n",
       "      <td>0.007135</td>\n",
       "      <td>349.407593</td>\n",
       "      <td>286.097748</td>\n",
       "      <td>304.194931</td>\n",
       "      <td>1.970908</td>\n",
       "      <td>2.996202</td>\n",
       "    </tr>\n",
       "    <tr>\n",
       "      <th>75%</th>\n",
       "      <td>41.000000</td>\n",
       "      <td>-120.875000</td>\n",
       "      <td>1468.000000</td>\n",
       "      <td>0.000000</td>\n",
       "      <td>77.000000</td>\n",
       "      <td>58.000000</td>\n",
       "      <td>66.500000</td>\n",
       "      <td>13.953494</td>\n",
       "      <td>4.000000</td>\n",
       "      <td>77.881821</td>\n",
       "      <td>...</td>\n",
       "      <td>9.902451</td>\n",
       "      <td>0.000000</td>\n",
       "      <td>80.555668</td>\n",
       "      <td>27.854930</td>\n",
       "      <td>0.008211</td>\n",
       "      <td>357.357330</td>\n",
       "      <td>288.974548</td>\n",
       "      <td>307.438934</td>\n",
       "      <td>2.490713</td>\n",
       "      <td>3.761563</td>\n",
       "    </tr>\n",
       "    <tr>\n",
       "      <th>max</th>\n",
       "      <td>42.000000</td>\n",
       "      <td>-120.000000</td>\n",
       "      <td>4000.000000</td>\n",
       "      <td>1.000000</td>\n",
       "      <td>99.000000</td>\n",
       "      <td>99.000000</td>\n",
       "      <td>99.000000</td>\n",
       "      <td>48.790368</td>\n",
       "      <td>60.000000</td>\n",
       "      <td>106.411102</td>\n",
       "      <td>...</td>\n",
       "      <td>22.170921</td>\n",
       "      <td>229.587433</td>\n",
       "      <td>100.000000</td>\n",
       "      <td>97.398079</td>\n",
       "      <td>0.016598</td>\n",
       "      <td>384.752289</td>\n",
       "      <td>300.698303</td>\n",
       "      <td>318.350250</td>\n",
       "      <td>5.218702</td>\n",
       "      <td>13.585548</td>\n",
       "    </tr>\n",
       "  </tbody>\n",
       "</table>\n",
       "<p>8 rows × 22 columns</p>\n",
       "</div>"
      ],
      "text/plain": [
       "             lat_rnd        lon_rnd      elevation  fire_occurrence  \\\n",
       "count  314712.000000  314712.000000  311550.000000    314712.000000   \n",
       "mean       39.803251    -121.835225     909.043582         0.013040   \n",
       "std         1.387989       1.135383     666.239292         0.113448   \n",
       "min        37.000000    -124.000000      -5.000000         0.000000   \n",
       "25%        38.700000    -122.800000     285.000000         0.000000   \n",
       "50%        39.900000    -121.800000     872.000000         0.000000   \n",
       "75%        41.000000    -120.875000    1468.000000         0.000000   \n",
       "max        42.000000    -120.000000    4000.000000         1.000000   \n",
       "\n",
       "             max_fpi        min_fpi        avg_fpi        std_fpi  \\\n",
       "count  314712.000000  314712.000000  314712.000000  289427.000000   \n",
       "mean       61.700399      43.020841      52.242994       9.981559   \n",
       "std        18.451759      19.607659      18.175809       6.416875   \n",
       "min         0.000000       0.000000       0.000000       0.000000   \n",
       "25%        49.000000      27.000000      37.800000       4.949747   \n",
       "50%        62.000000      37.000000      50.250000       9.073772   \n",
       "75%        77.000000      58.000000      66.500000      13.953494   \n",
       "max        99.000000      99.000000      99.000000      48.790368   \n",
       "\n",
       "       rolled_up_rows  eng_release_comp_nfdrs  ...  \\\n",
       "count   314712.000000           314712.000000  ...   \n",
       "mean         3.301418               66.650045  ...   \n",
       "std          1.108860               14.949313  ...   \n",
       "min          1.000000               11.100108  ...   \n",
       "25%          3.000000               56.807896  ...   \n",
       "50%          3.000000               69.156410  ...   \n",
       "75%          4.000000               77.881821  ...   \n",
       "max         60.000000              106.411102  ...   \n",
       "\n",
       "       hundred_hour_dead_fuel_moist_percent  precip_amount_mm  \\\n",
       "count                         314712.000000     314712.000000   \n",
       "mean                               8.374815          0.084939   \n",
       "std                                2.876200          1.065636   \n",
       "min                                2.464072          0.000000   \n",
       "25%                                6.295111          0.000000   \n",
       "50%                                7.546464          0.000000   \n",
       "75%                                9.902451          0.000000   \n",
       "max                               22.170921        229.587433   \n",
       "\n",
       "       max_relative_humidity_percent  min_relative_humidity_percent  \\\n",
       "count                  314712.000000                  314712.000000   \n",
       "mean                       65.401708                      23.145190   \n",
       "std                        19.724354                      10.321427   \n",
       "min                        10.114160                       1.585475   \n",
       "25%                        50.705161                      16.110517   \n",
       "50%                        63.501989                      21.048738   \n",
       "75%                        80.555668                      27.854930   \n",
       "max                       100.000000                      97.398079   \n",
       "\n",
       "       specific_humidity_kg_kg       srad_wmm     temp_min_k     temp_max_k  \\\n",
       "count            314712.000000  314712.000000  314712.000000  314712.000000   \n",
       "mean                  0.007099     342.205616     286.174699     303.887008   \n",
       "std                   0.001770      28.579374       4.070490       5.036619   \n",
       "min                   0.002134     101.679878     266.767975     279.190308   \n",
       "25%                   0.005878     338.026794     283.415619     300.577423   \n",
       "50%                   0.007135     349.407593     286.097748     304.194931   \n",
       "75%                   0.008211     357.357330     288.974548     307.438934   \n",
       "max                   0.016598     384.752289     300.698303     318.350250   \n",
       "\n",
       "       mean_vapor_pressure_deficit_kpa  wind_speed_10m_m_s  \n",
       "count                    314712.000000       314712.000000  \n",
       "mean                          2.014232            3.243794  \n",
       "std                           0.788456            1.258708  \n",
       "min                           0.000000            0.473196  \n",
       "25%                           1.474397            2.431010  \n",
       "50%                           1.970908            2.996202  \n",
       "75%                           2.490713            3.761563  \n",
       "max                           5.218702           13.585548  \n",
       "\n",
       "[8 rows x 22 columns]"
      ]
     },
     "execution_count": 4,
     "metadata": {},
     "output_type": "execute_result"
    }
   ],
   "source": [
    "# Descriptive statistics for each column\n",
    "df.describe()"
   ]
  },
  {
   "cell_type": "code",
   "execution_count": 5,
   "metadata": {},
   "outputs": [
    {
     "data": {
      "text/plain": [
       "Index(['lat_rnd', 'lon_rnd', 'fpi_date', 'elevation', 'fire_occurrence',\n",
       "       'max_fpi', 'min_fpi', 'avg_fpi', 'std_fpi', 'array_fpi',\n",
       "       'array_fod_lat', 'array_fod_lon', 'array_fpi_lat', 'array_fpi_lon',\n",
       "       'array_fod_id', 'rolled_up_rows', 'eng_release_comp_nfdrs',\n",
       "       'burning_index_nfdrs', 'daily_ref_evapotrans_mm',\n",
       "       'hundred_hour_dead_fuel_moist_percent', 'precip_amount_mm',\n",
       "       'max_relative_humidity_percent', 'min_relative_humidity_percent',\n",
       "       'specific_humidity_kg_kg', 'srad_wmm', 'temp_min_k', 'temp_max_k',\n",
       "       'mean_vapor_pressure_deficit_kpa', 'wind_speed_10m_m_s'],\n",
       "      dtype='object')"
      ]
     },
     "execution_count": 5,
     "metadata": {},
     "output_type": "execute_result"
    }
   ],
   "source": [
    "df = df.dropna()\n",
    "df_test = df_test.dropna()\n",
    "df.columns"
   ]
  },
  {
   "cell_type": "code",
   "execution_count": 6,
   "metadata": {},
   "outputs": [],
   "source": [
    "X_train=df[['lat_rnd', 'lon_rnd','max_fpi','min_fpi', 'avg_fpi']]\n",
    "y_train=df['fire_occurrence']\n",
    "X_test=df_test[['lat_rnd', 'lon_rnd','max_fpi','min_fpi', 'avg_fpi']]\n",
    "y_test=df_test['fire_occurrence']"
   ]
  },
  {
   "cell_type": "code",
   "execution_count": null,
   "metadata": {},
   "outputs": [],
   "source": [
    "df2=pd.read_sql('SELECT * FROM wildfire.combined WHERE extract(year from fpi_date)!=2015',engine)\n",
    "df_test2=pd.read_sql('SELECT * FROM wildfire.combined WHERE extract(year from fpi_date)=2015',engine)\n",
    "df2.head()"
   ]
  },
  {
   "cell_type": "markdown",
   "metadata": {},
   "source": [
    "# Imbalanced Dataset"
   ]
  },
  {
   "cell_type": "code",
   "execution_count": 434,
   "metadata": {},
   "outputs": [
    {
     "name": "stdout",
     "output_type": "stream",
     "text": [
      "No Fire %: 98.6899365525123\n",
      "Fire %: 1.3100634474877093\n"
     ]
    }
   ],
   "source": [
    "fire = y_train.isin([1]).sum()\n",
    "no_fire= y_train.isin([0]).sum()\n",
    "no_fireP = (no_fire/(fire+no_fire))*100\n",
    "fireP = (fire/(fire+no_fire))*100\n",
    "print(\"No Fire %: \" + str(no_fireP))\n",
    "print(\"Fire %: \" + str(fireP))"
   ]
  },
  {
   "cell_type": "code",
   "execution_count": 435,
   "metadata": {},
   "outputs": [
    {
     "data": {
      "image/png": "[encoded data removed]",
      "text/plain": [
       "<Figure size 432x288 with 1 Axes>"
      ]
     },
     "metadata": {
      "needs_background": "light"
     },
     "output_type": "display_data"
    }
   ],
   "source": [
    "import matplotlib.pyplot as plt\n",
    "fig = plt.figure()\n",
    "ax = fig.add_axes([0,0,1,1])\n",
    "langs = ['No Fire', 'Fire']\n",
    "students = [no_fireP,fireP]\n",
    "ax.bar(langs,students)\n",
    "plt.show()"
   ]
  },
  {
   "cell_type": "code",
   "execution_count": 7,
   "metadata": {},
   "outputs": [],
   "source": [
    "from sklearn.metrics import classification_report\n",
    "from sklearn.metrics import confusion_matrix\n",
    "from sklearn.tree import DecisionTreeClassifier\n",
    "from sklearn.ensemble import RandomForestClassifier\n"
   ]
  },
  {
   "cell_type": "markdown",
   "metadata": {},
   "source": [
    "# Random Tree & KNN"
   ]
  },
  {
   "cell_type": "code",
   "execution_count": 16,
   "metadata": {},
   "outputs": [
    {
     "data": {
      "text/plain": [
       "RandomForestClassifier(random_state=50)"
      ]
     },
     "execution_count": 16,
     "metadata": {},
     "output_type": "execute_result"
    }
   ],
   "source": [
    "rfc = RandomForestClassifier(n_estimators=100, random_state = RSEED, bootstrap=True)\n",
    "rfc.fit(X_train, y_train)"
   ]
  },
  {
   "cell_type": "code",
   "execution_count": 17,
   "metadata": {},
   "outputs": [],
   "source": [
    "import sys\n",
    "import numpy\n",
    "numpy.set_printoptions(threshold=sys.maxsize)\n",
    "rfc_pred = rfc.predict(X_test)\n",
    "rfc_prob=rfc.predict_proba(X_test)\n",
    "#rfc_prob"
   ]
  },
  {
   "cell_type": "code",
   "execution_count": 14,
   "metadata": {},
   "outputs": [
    {
     "data": {
      "text/plain": [
       "array([0, 0, 0, ..., 0, 0, 0], dtype=int64)"
      ]
     },
     "execution_count": 14,
     "metadata": {},
     "output_type": "execute_result"
    }
   ],
   "source": [
    "rfc_pred"
   ]
  },
  {
   "cell_type": "code",
   "execution_count": 439,
   "metadata": {},
   "outputs": [
    {
     "name": "stdout",
     "output_type": "stream",
     "text": [
      "[[46884    66]\n",
      " [  880     7]]\n"
     ]
    }
   ],
   "source": [
    "print(confusion_matrix(y_test,rfc_pred))"
   ]
  },
  {
   "cell_type": "code",
   "execution_count": 440,
   "metadata": {
    "scrolled": false
   },
   "outputs": [
    {
     "name": "stdout",
     "output_type": "stream",
     "text": [
      "              precision    recall  f1-score   support\n",
      "\n",
      "           0       0.98      1.00      0.99     46950\n",
      "           1       0.10      0.01      0.01       887\n",
      "\n",
      "    accuracy                           0.98     47837\n",
      "   macro avg       0.54      0.50      0.50     47837\n",
      "weighted avg       0.97      0.98      0.97     47837\n",
      "\n"
     ]
    }
   ],
   "source": [
    "print(classification_report(y_test,rfc_pred))"
   ]
  },
  {
   "cell_type": "code",
   "execution_count": 441,
   "metadata": {},
   "outputs": [
    {
     "name": "stdout",
     "output_type": "stream",
     "text": [
      "Depth of Tree\n"
     ]
    },
    {
     "data": {
      "text/plain": [
       "[32, 37, 37, 33, 34, 31, 42, 36, 36, 38]"
      ]
     },
     "execution_count": 441,
     "metadata": {},
     "output_type": "execute_result"
    }
   ],
   "source": [
    "print (\"Depth of Tree\")\n",
    "[estimator.tree_.max_depth for estimator in rfc.estimators_]"
   ]
  },
  {
   "cell_type": "code",
   "execution_count": 442,
   "metadata": {},
   "outputs": [
    {
     "name": "stdout",
     "output_type": "stream",
     "text": [
      "              precision    recall  f1-score   support\n",
      "\n",
      "           0       0.98      1.00      0.99     46950\n",
      "           1       0.20      0.00      0.00       887\n",
      "\n",
      "    accuracy                           0.98     47837\n",
      "   macro avg       0.59      0.50      0.50     47837\n",
      "weighted avg       0.97      0.98      0.97     47837\n",
      "\n",
      "[[46946     4]\n",
      " [  886     1]]\n"
     ]
    }
   ],
   "source": [
    "knn=KNeighborsClassifier(n_neighbors = 5)\n",
    "knn.fit(X_train, y_train)\n",
    "knn_preds=knn.predict(X_test)\n",
    "print(classification_report(y_test,knn_preds))\n",
    "print(confusion_matrix(y_test,knn_preds))"
   ]
  },
  {
   "cell_type": "code",
   "execution_count": 391,
   "metadata": {},
   "outputs": [],
   "source": [
    "error = []\n",
    "for i in range(1, 10):\n",
    "    knn = KNeighborsClassifier(n_neighbors=i)\n",
    "    knn.fit(X_train, y_train)\n",
    "    pred_i = knn.predict(X_test)\n",
    "    error.append(np.mean(pred_i != y_test))"
   ]
  },
  {
   "cell_type": "code",
   "execution_count": 394,
   "metadata": {},
   "outputs": [
    {
     "data": {
      "text/plain": [
       "Text(0, 0.5, 'Mean Error')"
      ]
     },
     "execution_count": 394,
     "metadata": {},
     "output_type": "execute_result"
    },
    {
     "data": {
      "image/png": "[encoded data removed]",
      "text/plain": [
       "<Figure size 864x432 with 1 Axes>"
      ]
     },
     "metadata": {
      "needs_background": "light"
     },
     "output_type": "display_data"
    }
   ],
   "source": [
    "plt.figure(figsize=(12, 6))\n",
    "plt.plot(range(1, 10), error, color='red', linestyle='dashed', marker='o',\n",
    "         markerfacecolor='green', markersize=20)\n",
    "plt.title('Error Rate for K Value')\n",
    "plt.xlabel('K Value')\n",
    "plt.ylabel('Mean Error')"
   ]
  },
  {
   "cell_type": "code",
   "execution_count": 368,
   "metadata": {},
   "outputs": [
    {
     "data": {
      "text/plain": [
       "Index(['lat_rnd', 'lon_rnd', 'max_fpi', 'min_fpi', 'avg_fpi', 'std_fpi'], dtype='object')"
      ]
     },
     "execution_count": 368,
     "metadata": {},
     "output_type": "execute_result"
    }
   ],
   "source": [
    "X_train.columns"
   ]
  },
  {
   "cell_type": "code",
   "execution_count": 467,
   "metadata": {},
   "outputs": [],
   "source": [
    "X_train=df[['lat_rnd', 'lon_rnd','max_fpi','min_fpi', 'avg_fpi', 'std_fpi']]\n",
    "y_train=df['fire_occurrence']\n",
    "X_test=df_test[['lat_rnd', 'lon_rnd','max_fpi','min_fpi', 'avg_fpi', 'std_fpi']]\n",
    "y_test=df_test['fire_occurrence']"
   ]
  },
  {
   "cell_type": "markdown",
   "metadata": {},
   "source": [
    "# Forward Selection: Adding min, max, standard devitation of FPI"
   ]
  },
  {
   "cell_type": "code",
   "execution_count": 472,
   "metadata": {
    "scrolled": true
   },
   "outputs": [
    {
     "name": "stdout",
     "output_type": "stream",
     "text": [
      "[[46912    38]\n",
      " [  877    10]]\n",
      "              precision    recall  f1-score   support\n",
      "\n",
      "           0       0.98      1.00      0.99     46950\n",
      "           1       0.21      0.01      0.02       887\n",
      "\n",
      "    accuracy                           0.98     47837\n",
      "   macro avg       0.59      0.51      0.51     47837\n",
      "weighted avg       0.97      0.98      0.97     47837\n",
      "\n"
     ]
    }
   ],
   "source": [
    "rfc = RandomForestClassifier(n_estimators=10, random_state = RSEED, bootstrap=True)\n",
    "rfc.fit(X_train, y_train)\n",
    "rfc_pred = rfc.predict(X_test)\n",
    "print(confusion_matrix(y_test,rfc_pred))\n",
    "print(classification_report(y_test,rfc_pred))"
   ]
  },
  {
   "cell_type": "code",
   "execution_count": 449,
   "metadata": {},
   "outputs": [],
   "source": [
    "knn=KNeighborsClassifier(n_neighbors = 5)\n",
    "knn.fit(X_train, y_train)\n",
    "knn_preds=knn.predict(X_test)\n"
   ]
  },
  {
   "cell_type": "code",
   "execution_count": 318,
   "metadata": {},
   "outputs": [
    {
     "name": "stdout",
     "output_type": "stream",
     "text": [
      "              precision    recall  f1-score   support\n",
      "\n",
      "           0       0.98      1.00      0.99     46950\n",
      "           1       0.50      0.00      0.00       887\n",
      "\n",
      "    accuracy                           0.98     47837\n",
      "   macro avg       0.74      0.50      0.50     47837\n",
      "weighted avg       0.97      0.98      0.97     47837\n",
      "\n"
     ]
    }
   ],
   "source": [
    "print(classification_report(y_test,knn_preds))"
   ]
  },
  {
   "cell_type": "markdown",
   "metadata": {},
   "source": [
    "# Feature Importance from Random Tree"
   ]
  },
  {
   "cell_type": "code",
   "execution_count": 457,
   "metadata": {},
   "outputs": [
    {
     "name": "stdout",
     "output_type": "stream",
     "text": [
      "Variable: std_fpi              Importance: 0.3\n",
      "Variable: avg_fpi              Importance: 0.23\n",
      "Variable: max_fpi              Importance: 0.14\n",
      "Variable: min_fpi              Importance: 0.13\n",
      "Variable: lat_rnd              Importance: 0.11\n",
      "Variable: lon_rnd              Importance: 0.1\n"
     ]
    }
   ],
   "source": [
    "feature_list = list(X_train.columns)\n",
    "importances = list(rfc.feature_importances_)\n",
    "feature_importances = [(feature, round(importance, 2)) for feature, importance in zip(feature_list, importances)]\n",
    "feature_importances = sorted(feature_importances, key = lambda x: x[1], reverse = True)\n",
    "[print('Variable: {:20} Importance: {}'.format(*pair)) for pair in feature_importances];"
   ]
  },
  {
   "cell_type": "code",
   "execution_count": 456,
   "metadata": {},
   "outputs": [
    {
     "data": {
      "image/png": "[encoded data removed]",
      "text/plain": [
       "<Figure size 432x288 with 1 Axes>"
      ]
     },
     "metadata": {},
     "output_type": "display_data"
    }
   ],
   "source": [
    "import matplotlib.pyplot as plt\n",
    "%matplotlib inline\n",
    "plt.style.use('fivethirtyeight')\n",
    "x_values = list(range(len(importances)))\n",
    "plt.bar(x_values, importances, orientation = 'vertical')\n",
    "plt.xticks(x_values, feature_list, rotation='vertical')\n",
    "plt.ylabel('Importance'); plt.xlabel('Variable'); plt.title('Variable Importances');"
   ]
  },
  {
   "cell_type": "code",
   "execution_count": 400,
   "metadata": {},
   "outputs": [],
   "source": [
    "error = []\n",
    "for i in range(1, 10):\n",
    "    knn = KNeighborsClassifier(n_neighbors=i)\n",
    "    knn.fit(X_train, y_train)\n",
    "    pred_i = knn.predict(X_test)\n",
    "    error.append(np.mean(pred_i != y_test))"
   ]
  },
  {
   "cell_type": "code",
   "execution_count": 401,
   "metadata": {},
   "outputs": [
    {
     "data": {
      "text/plain": [
       "Text(0, 0.5, 'Mean Error')"
      ]
     },
     "execution_count": 401,
     "metadata": {},
     "output_type": "execute_result"
    },
    {
     "data": {
      "image/png": "[encoded data removed]",
      "text/plain": [
       "<Figure size 864x432 with 1 Axes>"
      ]
     },
     "metadata": {
      "needs_background": "light"
     },
     "output_type": "display_data"
    }
   ],
   "source": [
    "plt.figure(figsize=(12, 6))\n",
    "plt.plot(range(1, 10), error, color='red', linestyle='dashed', marker='o',\n",
    "         markerfacecolor='green', markersize=20)\n",
    "plt.title('Error Rate for K Value')\n",
    "plt.xlabel('K Value')\n",
    "plt.ylabel('Mean Error')"
   ]
  },
  {
   "cell_type": "markdown",
   "metadata": {},
   "source": [
    "# Adding 80 to 1 class weights"
   ]
  },
  {
   "cell_type": "code",
   "execution_count": 366,
   "metadata": {},
   "outputs": [
    {
     "name": "stdout",
     "output_type": "stream",
     "text": [
      "[[46846   104]\n",
      " [  876    11]]\n",
      "              precision    recall  f1-score   support\n",
      "\n",
      "           0       0.98      1.00      0.99     46950\n",
      "           1       0.10      0.01      0.02       887\n",
      "\n",
      "    accuracy                           0.98     47837\n",
      "   macro avg       0.54      0.51      0.51     47837\n",
      "weighted avg       0.97      0.98      0.97     47837\n",
      "\n"
     ]
    }
   ],
   "source": [
    "weights = dict({0:1, 1:80})\n",
    "rfc = RandomForestClassifier(n_estimators=10, random_state = RSEED, bootstrap=True, class_weight=weights)\n",
    "rfc.fit(X_train, y_train)\n",
    "rfc_pred = rfc.predict(X_test)\n",
    "print(confusion_matrix(y_test,rfc_pred))\n",
    "print(classification_report(y_test,rfc_pred))"
   ]
  },
  {
   "cell_type": "markdown",
   "metadata": {},
   "source": [
    "# Import all features"
   ]
  },
  {
   "cell_type": "code",
   "execution_count": 6,
   "metadata": {},
   "outputs": [],
   "source": [
    "X_train=df[['lat_rnd', 'lon_rnd','max_fpi','min_fpi', 'avg_fpi','std_fpi','daily_ref_evapotrans_mm',\n",
    "      'hundred_hour_dead_fuel_moist_percent', 'precip_amount_mm',\n",
    "      'max_relative_humidity_percent', 'min_relative_humidity_percent',\n",
    "      'specific_humidity_kg_kg', 'srad_wmm', 'temp_min_k', 'temp_max_k',\n",
    "      'mean_vapor_pressure_deficit_kpa', 'wind_speed_10m_m_s']]\n",
    "y_train=df['fire_occurrence']\n",
    "X_test=df_test[['lat_rnd', 'lon_rnd','max_fpi','min_fpi', 'avg_fpi','std_fpi','daily_ref_evapotrans_mm',\n",
    "      'hundred_hour_dead_fuel_moist_percent', 'precip_amount_mm',\n",
    "      'max_relative_humidity_percent', 'min_relative_humidity_percent',\n",
    "      'specific_humidity_kg_kg', 'srad_wmm', 'temp_min_k', 'temp_max_k',\n",
    "      'mean_vapor_pressure_deficit_kpa', 'wind_speed_10m_m_s']]\n",
    "y_test=df_test['fire_occurrence']"
   ]
  },
  {
   "cell_type": "code",
   "execution_count": 463,
   "metadata": {},
   "outputs": [
    {
     "name": "stdout",
     "output_type": "stream",
     "text": [
      "                                 feature            VIF\n",
      "0                                  const  208242.883424\n",
      "1                                lat_rnd       2.183007\n",
      "2                                lon_rnd       2.184275\n",
      "3                                max_fpi      39.706792\n",
      "4                                min_fpi      45.069437\n",
      "5                                avg_fpi      49.547560\n",
      "6                                std_fpi      14.285789\n",
      "7                daily_ref_evapotrans_mm      11.433608\n",
      "8   hundred_hour_dead_fuel_moist_percent       6.432350\n",
      "9                       precip_amount_mm       1.049431\n",
      "10         max_relative_humidity_percent      14.530584\n",
      "11         min_relative_humidity_percent      13.359910\n",
      "12               specific_humidity_kg_kg      15.281306\n",
      "13                              srad_wmm       1.731942\n",
      "14                            temp_min_k      13.090937\n",
      "15                            temp_max_k      41.041347\n",
      "16       mean_vapor_pressure_deficit_kpa      42.462262\n",
      "17                    wind_speed_10m_m_s       4.286394\n"
     ]
    }
   ],
   "source": [
    "from patsy import dmatrices\n",
    "import statsmodels.api as sm\n",
    "from statsmodels.stats.outliers_influence import variance_inflation_factor\n",
    "from statsmodels.tools.tools import add_constant\n",
    "X_train2 = add_constant(X_train)\n",
    "#X_train2 = X_train2.drop('mean_vapor_pressure_deficit_kpa', 1)\n",
    "vif_data = pd.DataFrame() \n",
    "vif_data[\"feature\"] = X_train2.columns \n",
    "  \n",
    "# calculating VIF for each feature \n",
    "vif_data[\"VIF\"] = [variance_inflation_factor(X_train2.values, i) \n",
    "                          for i in range(len(X_train2.columns))] \n",
    "  \n",
    "print(vif_data)"
   ]
  },
  {
   "cell_type": "code",
   "execution_count": 404,
   "metadata": {},
   "outputs": [
    {
     "data": {
      "image/png": "[encoded data removed]",
      "text/plain": [
       "<Figure size 1152x720 with 2 Axes>"
      ]
     },
     "metadata": {
      "needs_background": "light"
     },
     "output_type": "display_data"
    }
   ],
   "source": [
    "import seaborn as sns\n",
    "cor = X_train.corr()\n",
    "plt.figure(figsize=(16,10))\n",
    "sns.heatmap(cor)\n",
    "plt.show()"
   ]
  },
  {
   "cell_type": "code",
   "execution_count": 14,
   "metadata": {},
   "outputs": [
    {
     "name": "stdout",
     "output_type": "stream",
     "text": [
      "[[46942     8]\n",
      " [  884     3]]\n",
      "              precision    recall  f1-score   support\n",
      "\n",
      "           0       0.98      1.00      0.99     46950\n",
      "           1       0.27      0.00      0.01       887\n",
      "\n",
      "    accuracy                           0.98     47837\n",
      "   macro avg       0.63      0.50      0.50     47837\n",
      "weighted avg       0.97      0.98      0.97     47837\n",
      "\n"
     ]
    }
   ],
   "source": [
    "rfc = RandomForestClassifier(n_estimators=10, random_state = RSEED, bootstrap=True)\n",
    "rfc.fit(X_train, y_train)\n",
    "rfc_pred = rfc.predict(X_test)\n",
    "print(confusion_matrix(y_test,rfc_pred))\n",
    "print(classification_report(y_test,rfc_pred))"
   ]
  },
  {
   "cell_type": "markdown",
   "metadata": {},
   "source": [
    "# Feature Importance from Random Tree"
   ]
  },
  {
   "cell_type": "code",
   "execution_count": 15,
   "metadata": {},
   "outputs": [
    {
     "name": "stdout",
     "output_type": "stream",
     "text": [
      "Variable: hundred_hour_dead_fuel_moist_percent Importance: 0.08\n",
      "Variable: srad_wmm             Importance: 0.08\n",
      "Variable: std_fpi              Importance: 0.07\n",
      "Variable: daily_ref_evapotrans_mm Importance: 0.07\n",
      "Variable: min_relative_humidity_percent Importance: 0.07\n",
      "Variable: specific_humidity_kg_kg Importance: 0.07\n",
      "Variable: temp_min_k           Importance: 0.07\n",
      "Variable: temp_max_k           Importance: 0.07\n",
      "Variable: mean_vapor_pressure_deficit_kpa Importance: 0.07\n",
      "Variable: wind_speed_10m_m_s   Importance: 0.07\n",
      "Variable: max_relative_humidity_percent Importance: 0.06\n",
      "Variable: min_fpi              Importance: 0.05\n",
      "Variable: avg_fpi              Importance: 0.05\n",
      "Variable: lat_rnd              Importance: 0.04\n",
      "Variable: lon_rnd              Importance: 0.04\n",
      "Variable: max_fpi              Importance: 0.04\n",
      "Variable: precip_amount_mm     Importance: 0.0\n"
     ]
    }
   ],
   "source": [
    "feature_list = list(X_train.columns)\n",
    "# Get numerical feature importances\n",
    "importances = list(rfc.feature_importances_)\n",
    "# List of tuples with variable and importance\n",
    "feature_importances = [(feature, round(importance, 2)) for feature, importance in zip(feature_list, importances)]\n",
    "# Sort the feature importances by most important first\n",
    "feature_importances = sorted(feature_importances, key = lambda x: x[1], reverse = True)\n",
    "# Print out the feature and importances \n",
    "[print('Variable: {:20} Importance: {}'.format(*pair)) for pair in feature_importances];"
   ]
  },
  {
   "cell_type": "code",
   "execution_count": 16,
   "metadata": {},
   "outputs": [
    {
     "data": {
      "image/png": "[encoded data removed]",
      "text/plain": [
       "<Figure size 432x288 with 1 Axes>"
      ]
     },
     "metadata": {},
     "output_type": "display_data"
    }
   ],
   "source": [
    "import matplotlib.pyplot as plt\n",
    "%matplotlib inline\n",
    "plt.style.use('fivethirtyeight')\n",
    "x_values = list(range(len(importances)))\n",
    "plt.bar(x_values, importances, orientation = 'vertical')\n",
    "plt.xticks(x_values, feature_list, rotation='vertical')\n",
    "plt.ylabel('Importance'); plt.xlabel('Variable'); plt.title('Variable Importances');"
   ]
  },
  {
   "cell_type": "code",
   "execution_count": 451,
   "metadata": {},
   "outputs": [
    {
     "name": "stdout",
     "output_type": "stream",
     "text": [
      "              precision    recall  f1-score   support\n",
      "\n",
      "           0       0.98      1.00      0.99     46950\n",
      "           1       0.00      0.00      0.00       887\n",
      "\n",
      "    accuracy                           0.98     47837\n",
      "   macro avg       0.49      0.50      0.50     47837\n",
      "weighted avg       0.96      0.98      0.97     47837\n",
      "\n",
      "[[46946     4]\n",
      " [  887     0]]\n"
     ]
    }
   ],
   "source": [
    "knn=KNeighborsClassifier(n_neighbors = 5)\n",
    "knn.fit(X_train, y_train)\n",
    "knn_preds=knn.predict(X_test)\n",
    "print(classification_report(y_test,knn_preds))\n",
    "print(confusion_matrix(y_test,knn_preds))"
   ]
  },
  {
   "cell_type": "markdown",
   "metadata": {},
   "source": [
    "# Working Code"
   ]
  },
  {
   "cell_type": "markdown",
   "metadata": {},
   "source": [
    "# Ensemble Cross Validation"
   ]
  },
  {
   "cell_type": "code",
   "execution_count": 452,
   "metadata": {},
   "outputs": [
    {
     "data": {
      "text/plain": [
       "'Citation: https://towardsdatascience.com/working-with-highly-imbalanced-datasets-in-machine-learning-projects-c70c5f2a7b16'"
      ]
     },
     "execution_count": 452,
     "metadata": {},
     "output_type": "execute_result"
    }
   ],
   "source": [
    "\"Citation: https://towardsdatascience.com/working-with-highly-imbalanced-datasets-in-machine-learning-projects-c70c5f2a7b16\""
   ]
  },
  {
   "cell_type": "code",
   "execution_count": 26,
   "metadata": {},
   "outputs": [],
   "source": [
    "class Create_ensemble(object):\n",
    "    def __init__(self, n_splits, base_models):\n",
    "        self.n_splits = n_splits\n",
    "        self.base_models = base_models\n",
    "\n",
    "    def predict(self, X, y, T):\n",
    "        X = np.array(X)\n",
    "        y = np.array(y)\n",
    "        T = np.array(T)\n",
    "\n",
    "        folds = list(StratifiedKFold(n_splits=self.n_splits, shuffle=True, \n",
    "                                     random_state = random_state).split(X, y))\n",
    "\n",
    "        train_pred = np.zeros((X.shape[0], len(self.base_models)))\n",
    "        test_pred = np.zeros((T.shape[0], len(self.base_models)* self.n_splits))\n",
    "        f1_scores = np.zeros((len(self.base_models), self.n_splits))\n",
    "        recall_scores = np.zeros((len(self.base_models), self.n_splits))\n",
    "        \n",
    "        test_col = 0\n",
    "        for i, clf in enumerate(self.base_models):\n",
    "            \n",
    "            for j, (train_idx, valid_idx) in enumerate(folds):\n",
    "                \n",
    "                X_train = X[train_idx]\n",
    "                Y_train = y[train_idx]\n",
    "                X_valid = X[valid_idx]\n",
    "                Y_valid = y[valid_idx]\n",
    "                \n",
    "                clf.fit(X_train, Y_train)\n",
    "                \n",
    "                valid_pred = clf.predict(X_valid)\n",
    "                recall  = recall_score(Y_valid, valid_pred, average='macro')\n",
    "                f1 = f1_score(Y_valid, valid_pred, average='macro')\n",
    "                \n",
    "                recall_scores[i][j] = recall\n",
    "                f1_scores[i][j] = f1\n",
    "                \n",
    "                train_pred[valid_idx, i] = valid_pred\n",
    "                test_pred[:, test_col] = clf.predict(T)\n",
    "                test_col += 1\n",
    "                \n",
    "                print( \"Model- {} and CV- {} recall: {}, f1_score: {}\".format(i, j, recall, f1))\n",
    "            \n",
    "        return train_pred, test_pred, recall_scores, f1_scores"
   ]
  },
  {
   "cell_type": "code",
   "execution_count": 27,
   "metadata": {},
   "outputs": [
    {
     "name": "stdout",
     "output_type": "stream",
     "text": [
      "Fitting 5 folds for each of 108 candidates, totalling 540 fits\n"
     ]
    },
    {
     "name": "stderr",
     "output_type": "stream",
     "text": [
      "[Parallel(n_jobs=-1)]: Using backend LokyBackend with 4 concurrent workers.\n"
     ]
    },
    {
     "ename": "KeyboardInterrupt",
     "evalue": "",
     "output_type": "error",
     "traceback": [
      "\u001b[1;31m---------------------------------------------------------------------------\u001b[0m",
      "\u001b[1;31mKeyboardInterrupt\u001b[0m                         Traceback (most recent call last)",
      "\u001b[1;32m<ipython-input-27-87d64afdd3d8>\u001b[0m in \u001b[0;36m<module>\u001b[1;34m\u001b[0m\n\u001b[0;32m     17\u001b[0m \u001b[1;33m\u001b[0m\u001b[0m\n\u001b[0;32m     18\u001b[0m \u001b[0mgrid_clf\u001b[0m \u001b[1;33m=\u001b[0m \u001b[0mGridSearchCV\u001b[0m\u001b[1;33m(\u001b[0m\u001b[0mestimator\u001b[0m \u001b[1;33m=\u001b[0m \u001b[0mrdf\u001b[0m\u001b[1;33m,\u001b[0m \u001b[0mparam_grid\u001b[0m \u001b[1;33m=\u001b[0m \u001b[0mparams\u001b[0m\u001b[1;33m,\u001b[0m \u001b[0mcv\u001b[0m \u001b[1;33m=\u001b[0m \u001b[0mcv\u001b[0m\u001b[1;33m,\u001b[0m \u001b[0mn_jobs\u001b[0m\u001b[1;33m=\u001b[0m\u001b[1;33m-\u001b[0m\u001b[1;36m1\u001b[0m\u001b[1;33m,\u001b[0m \u001b[0mverbose\u001b[0m\u001b[1;33m=\u001b[0m\u001b[1;36m4\u001b[0m\u001b[1;33m)\u001b[0m\u001b[1;33m\u001b[0m\u001b[1;33m\u001b[0m\u001b[0m\n\u001b[1;32m---> 19\u001b[1;33m \u001b[0mgrid_clf\u001b[0m\u001b[1;33m.\u001b[0m\u001b[0mfit\u001b[0m\u001b[1;33m(\u001b[0m\u001b[0mX_train\u001b[0m\u001b[1;33m,\u001b[0m \u001b[0my_train\u001b[0m\u001b[1;33m)\u001b[0m\u001b[1;33m\u001b[0m\u001b[1;33m\u001b[0m\u001b[0m\n\u001b[0m",
      "\u001b[1;32m~\\Anaconda3\\envs\\datascience1\\lib\\site-packages\\sklearn\\utils\\validation.py\u001b[0m in \u001b[0;36minner_f\u001b[1;34m(*args, **kwargs)\u001b[0m\n\u001b[0;32m     71\u001b[0m                           FutureWarning)\n\u001b[0;32m     72\u001b[0m         \u001b[0mkwargs\u001b[0m\u001b[1;33m.\u001b[0m\u001b[0mupdate\u001b[0m\u001b[1;33m(\u001b[0m\u001b[1;33m{\u001b[0m\u001b[0mk\u001b[0m\u001b[1;33m:\u001b[0m \u001b[0marg\u001b[0m \u001b[1;32mfor\u001b[0m \u001b[0mk\u001b[0m\u001b[1;33m,\u001b[0m \u001b[0marg\u001b[0m \u001b[1;32min\u001b[0m \u001b[0mzip\u001b[0m\u001b[1;33m(\u001b[0m\u001b[0msig\u001b[0m\u001b[1;33m.\u001b[0m\u001b[0mparameters\u001b[0m\u001b[1;33m,\u001b[0m \u001b[0margs\u001b[0m\u001b[1;33m)\u001b[0m\u001b[1;33m}\u001b[0m\u001b[1;33m)\u001b[0m\u001b[1;33m\u001b[0m\u001b[1;33m\u001b[0m\u001b[0m\n\u001b[1;32m---> 73\u001b[1;33m         \u001b[1;32mreturn\u001b[0m \u001b[0mf\u001b[0m\u001b[1;33m(\u001b[0m\u001b[1;33m**\u001b[0m\u001b[0mkwargs\u001b[0m\u001b[1;33m)\u001b[0m\u001b[1;33m\u001b[0m\u001b[1;33m\u001b[0m\u001b[0m\n\u001b[0m\u001b[0;32m     74\u001b[0m     \u001b[1;32mreturn\u001b[0m \u001b[0minner_f\u001b[0m\u001b[1;33m\u001b[0m\u001b[1;33m\u001b[0m\u001b[0m\n\u001b[0;32m     75\u001b[0m \u001b[1;33m\u001b[0m\u001b[0m\n",
      "\u001b[1;32m~\\Anaconda3\\envs\\datascience1\\lib\\site-packages\\sklearn\\model_selection\\_search.py\u001b[0m in \u001b[0;36mfit\u001b[1;34m(self, X, y, groups, **fit_params)\u001b[0m\n\u001b[0;32m    734\u001b[0m                 \u001b[1;32mreturn\u001b[0m \u001b[0mresults\u001b[0m\u001b[1;33m\u001b[0m\u001b[1;33m\u001b[0m\u001b[0m\n\u001b[0;32m    735\u001b[0m \u001b[1;33m\u001b[0m\u001b[0m\n\u001b[1;32m--> 736\u001b[1;33m             \u001b[0mself\u001b[0m\u001b[1;33m.\u001b[0m\u001b[0m_run_search\u001b[0m\u001b[1;33m(\u001b[0m\u001b[0mevaluate_candidates\u001b[0m\u001b[1;33m)\u001b[0m\u001b[1;33m\u001b[0m\u001b[1;33m\u001b[0m\u001b[0m\n\u001b[0m\u001b[0;32m    737\u001b[0m \u001b[1;33m\u001b[0m\u001b[0m\n\u001b[0;32m    738\u001b[0m         \u001b[1;31m# For multi-metric evaluation, store the best_index_, best_params_ and\u001b[0m\u001b[1;33m\u001b[0m\u001b[1;33m\u001b[0m\u001b[1;33m\u001b[0m\u001b[0m\n",
      "\u001b[1;32m~\\Anaconda3\\envs\\datascience1\\lib\\site-packages\\sklearn\\model_selection\\_search.py\u001b[0m in \u001b[0;36m_run_search\u001b[1;34m(self, evaluate_candidates)\u001b[0m\n\u001b[0;32m   1186\u001b[0m     \u001b[1;32mdef\u001b[0m \u001b[0m_run_search\u001b[0m\u001b[1;33m(\u001b[0m\u001b[0mself\u001b[0m\u001b[1;33m,\u001b[0m \u001b[0mevaluate_candidates\u001b[0m\u001b[1;33m)\u001b[0m\u001b[1;33m:\u001b[0m\u001b[1;33m\u001b[0m\u001b[1;33m\u001b[0m\u001b[0m\n\u001b[0;32m   1187\u001b[0m         \u001b[1;34m\"\"\"Search all candidates in param_grid\"\"\"\u001b[0m\u001b[1;33m\u001b[0m\u001b[1;33m\u001b[0m\u001b[0m\n\u001b[1;32m-> 1188\u001b[1;33m         \u001b[0mevaluate_candidates\u001b[0m\u001b[1;33m(\u001b[0m\u001b[0mParameterGrid\u001b[0m\u001b[1;33m(\u001b[0m\u001b[0mself\u001b[0m\u001b[1;33m.\u001b[0m\u001b[0mparam_grid\u001b[0m\u001b[1;33m)\u001b[0m\u001b[1;33m)\u001b[0m\u001b[1;33m\u001b[0m\u001b[1;33m\u001b[0m\u001b[0m\n\u001b[0m\u001b[0;32m   1189\u001b[0m \u001b[1;33m\u001b[0m\u001b[0m\n\u001b[0;32m   1190\u001b[0m \u001b[1;33m\u001b[0m\u001b[0m\n",
      "\u001b[1;32m~\\Anaconda3\\envs\\datascience1\\lib\\site-packages\\sklearn\\model_selection\\_search.py\u001b[0m in \u001b[0;36mevaluate_candidates\u001b[1;34m(candidate_params)\u001b[0m\n\u001b[0;32m    713\u001b[0m                                \u001b[1;32mfor\u001b[0m \u001b[0mparameters\u001b[0m\u001b[1;33m,\u001b[0m \u001b[1;33m(\u001b[0m\u001b[0mtrain\u001b[0m\u001b[1;33m,\u001b[0m \u001b[0mtest\u001b[0m\u001b[1;33m)\u001b[0m\u001b[1;33m\u001b[0m\u001b[1;33m\u001b[0m\u001b[0m\n\u001b[0;32m    714\u001b[0m                                in product(candidate_params,\n\u001b[1;32m--> 715\u001b[1;33m                                           cv.split(X, y, groups)))\n\u001b[0m\u001b[0;32m    716\u001b[0m \u001b[1;33m\u001b[0m\u001b[0m\n\u001b[0;32m    717\u001b[0m                 \u001b[1;32mif\u001b[0m \u001b[0mlen\u001b[0m\u001b[1;33m(\u001b[0m\u001b[0mout\u001b[0m\u001b[1;33m)\u001b[0m \u001b[1;33m<\u001b[0m \u001b[1;36m1\u001b[0m\u001b[1;33m:\u001b[0m\u001b[1;33m\u001b[0m\u001b[1;33m\u001b[0m\u001b[0m\n",
      "\u001b[1;32m~\\Anaconda3\\envs\\datascience1\\lib\\site-packages\\joblib\\parallel.py\u001b[0m in \u001b[0;36m__call__\u001b[1;34m(self, iterable)\u001b[0m\n\u001b[0;32m   1040\u001b[0m \u001b[1;33m\u001b[0m\u001b[0m\n\u001b[0;32m   1041\u001b[0m             \u001b[1;32mwith\u001b[0m \u001b[0mself\u001b[0m\u001b[1;33m.\u001b[0m\u001b[0m_backend\u001b[0m\u001b[1;33m.\u001b[0m\u001b[0mretrieval_context\u001b[0m\u001b[1;33m(\u001b[0m\u001b[1;33m)\u001b[0m\u001b[1;33m:\u001b[0m\u001b[1;33m\u001b[0m\u001b[1;33m\u001b[0m\u001b[0m\n\u001b[1;32m-> 1042\u001b[1;33m                 \u001b[0mself\u001b[0m\u001b[1;33m.\u001b[0m\u001b[0mretrieve\u001b[0m\u001b[1;33m(\u001b[0m\u001b[1;33m)\u001b[0m\u001b[1;33m\u001b[0m\u001b[1;33m\u001b[0m\u001b[0m\n\u001b[0m\u001b[0;32m   1043\u001b[0m             \u001b[1;31m# Make sure that we get a last message telling us we are done\u001b[0m\u001b[1;33m\u001b[0m\u001b[1;33m\u001b[0m\u001b[1;33m\u001b[0m\u001b[0m\n\u001b[0;32m   1044\u001b[0m             \u001b[0melapsed_time\u001b[0m \u001b[1;33m=\u001b[0m \u001b[0mtime\u001b[0m\u001b[1;33m.\u001b[0m\u001b[0mtime\u001b[0m\u001b[1;33m(\u001b[0m\u001b[1;33m)\u001b[0m \u001b[1;33m-\u001b[0m \u001b[0mself\u001b[0m\u001b[1;33m.\u001b[0m\u001b[0m_start_time\u001b[0m\u001b[1;33m\u001b[0m\u001b[1;33m\u001b[0m\u001b[0m\n",
      "\u001b[1;32m~\\Anaconda3\\envs\\datascience1\\lib\\site-packages\\joblib\\parallel.py\u001b[0m in \u001b[0;36mretrieve\u001b[1;34m(self)\u001b[0m\n\u001b[0;32m    919\u001b[0m             \u001b[1;32mtry\u001b[0m\u001b[1;33m:\u001b[0m\u001b[1;33m\u001b[0m\u001b[1;33m\u001b[0m\u001b[0m\n\u001b[0;32m    920\u001b[0m                 \u001b[1;32mif\u001b[0m \u001b[0mgetattr\u001b[0m\u001b[1;33m(\u001b[0m\u001b[0mself\u001b[0m\u001b[1;33m.\u001b[0m\u001b[0m_backend\u001b[0m\u001b[1;33m,\u001b[0m \u001b[1;34m'supports_timeout'\u001b[0m\u001b[1;33m,\u001b[0m \u001b[1;32mFalse\u001b[0m\u001b[1;33m)\u001b[0m\u001b[1;33m:\u001b[0m\u001b[1;33m\u001b[0m\u001b[1;33m\u001b[0m\u001b[0m\n\u001b[1;32m--> 921\u001b[1;33m                     \u001b[0mself\u001b[0m\u001b[1;33m.\u001b[0m\u001b[0m_output\u001b[0m\u001b[1;33m.\u001b[0m\u001b[0mextend\u001b[0m\u001b[1;33m(\u001b[0m\u001b[0mjob\u001b[0m\u001b[1;33m.\u001b[0m\u001b[0mget\u001b[0m\u001b[1;33m(\u001b[0m\u001b[0mtimeout\u001b[0m\u001b[1;33m=\u001b[0m\u001b[0mself\u001b[0m\u001b[1;33m.\u001b[0m\u001b[0mtimeout\u001b[0m\u001b[1;33m)\u001b[0m\u001b[1;33m)\u001b[0m\u001b[1;33m\u001b[0m\u001b[1;33m\u001b[0m\u001b[0m\n\u001b[0m\u001b[0;32m    922\u001b[0m                 \u001b[1;32melse\u001b[0m\u001b[1;33m:\u001b[0m\u001b[1;33m\u001b[0m\u001b[1;33m\u001b[0m\u001b[0m\n\u001b[0;32m    923\u001b[0m                     \u001b[0mself\u001b[0m\u001b[1;33m.\u001b[0m\u001b[0m_output\u001b[0m\u001b[1;33m.\u001b[0m\u001b[0mextend\u001b[0m\u001b[1;33m(\u001b[0m\u001b[0mjob\u001b[0m\u001b[1;33m.\u001b[0m\u001b[0mget\u001b[0m\u001b[1;33m(\u001b[0m\u001b[1;33m)\u001b[0m\u001b[1;33m)\u001b[0m\u001b[1;33m\u001b[0m\u001b[1;33m\u001b[0m\u001b[0m\n",
      "\u001b[1;32m~\\Anaconda3\\envs\\datascience1\\lib\\site-packages\\joblib\\_parallel_backends.py\u001b[0m in \u001b[0;36mwrap_future_result\u001b[1;34m(future, timeout)\u001b[0m\n\u001b[0;32m    538\u001b[0m         AsyncResults.get from multiprocessing.\"\"\"\n\u001b[0;32m    539\u001b[0m         \u001b[1;32mtry\u001b[0m\u001b[1;33m:\u001b[0m\u001b[1;33m\u001b[0m\u001b[1;33m\u001b[0m\u001b[0m\n\u001b[1;32m--> 540\u001b[1;33m             \u001b[1;32mreturn\u001b[0m \u001b[0mfuture\u001b[0m\u001b[1;33m.\u001b[0m\u001b[0mresult\u001b[0m\u001b[1;33m(\u001b[0m\u001b[0mtimeout\u001b[0m\u001b[1;33m=\u001b[0m\u001b[0mtimeout\u001b[0m\u001b[1;33m)\u001b[0m\u001b[1;33m\u001b[0m\u001b[1;33m\u001b[0m\u001b[0m\n\u001b[0m\u001b[0;32m    541\u001b[0m         \u001b[1;32mexcept\u001b[0m \u001b[0mCfTimeoutError\u001b[0m\u001b[1;33m:\u001b[0m\u001b[1;33m\u001b[0m\u001b[1;33m\u001b[0m\u001b[0m\n\u001b[0;32m    542\u001b[0m             \u001b[1;32mraise\u001b[0m \u001b[0mTimeoutError\u001b[0m\u001b[1;33m(\u001b[0m\u001b[1;33m)\u001b[0m\u001b[1;33m\u001b[0m\u001b[1;33m\u001b[0m\u001b[0m\n",
      "\u001b[1;32m~\\Anaconda3\\envs\\datascience1\\lib\\concurrent\\futures\\_base.py\u001b[0m in \u001b[0;36mresult\u001b[1;34m(self, timeout)\u001b[0m\n\u001b[0;32m    425\u001b[0m                 \u001b[1;32mreturn\u001b[0m \u001b[0mself\u001b[0m\u001b[1;33m.\u001b[0m\u001b[0m__get_result\u001b[0m\u001b[1;33m(\u001b[0m\u001b[1;33m)\u001b[0m\u001b[1;33m\u001b[0m\u001b[1;33m\u001b[0m\u001b[0m\n\u001b[0;32m    426\u001b[0m \u001b[1;33m\u001b[0m\u001b[0m\n\u001b[1;32m--> 427\u001b[1;33m             \u001b[0mself\u001b[0m\u001b[1;33m.\u001b[0m\u001b[0m_condition\u001b[0m\u001b[1;33m.\u001b[0m\u001b[0mwait\u001b[0m\u001b[1;33m(\u001b[0m\u001b[0mtimeout\u001b[0m\u001b[1;33m)\u001b[0m\u001b[1;33m\u001b[0m\u001b[1;33m\u001b[0m\u001b[0m\n\u001b[0m\u001b[0;32m    428\u001b[0m \u001b[1;33m\u001b[0m\u001b[0m\n\u001b[0;32m    429\u001b[0m             \u001b[1;32mif\u001b[0m \u001b[0mself\u001b[0m\u001b[1;33m.\u001b[0m\u001b[0m_state\u001b[0m \u001b[1;32min\u001b[0m \u001b[1;33m[\u001b[0m\u001b[0mCANCELLED\u001b[0m\u001b[1;33m,\u001b[0m \u001b[0mCANCELLED_AND_NOTIFIED\u001b[0m\u001b[1;33m]\u001b[0m\u001b[1;33m:\u001b[0m\u001b[1;33m\u001b[0m\u001b[1;33m\u001b[0m\u001b[0m\n",
      "\u001b[1;32m~\\Anaconda3\\envs\\datascience1\\lib\\threading.py\u001b[0m in \u001b[0;36mwait\u001b[1;34m(self, timeout)\u001b[0m\n\u001b[0;32m    293\u001b[0m         \u001b[1;32mtry\u001b[0m\u001b[1;33m:\u001b[0m    \u001b[1;31m# restore state no matter what (e.g., KeyboardInterrupt)\u001b[0m\u001b[1;33m\u001b[0m\u001b[1;33m\u001b[0m\u001b[0m\n\u001b[0;32m    294\u001b[0m             \u001b[1;32mif\u001b[0m \u001b[0mtimeout\u001b[0m \u001b[1;32mis\u001b[0m \u001b[1;32mNone\u001b[0m\u001b[1;33m:\u001b[0m\u001b[1;33m\u001b[0m\u001b[1;33m\u001b[0m\u001b[0m\n\u001b[1;32m--> 295\u001b[1;33m                 \u001b[0mwaiter\u001b[0m\u001b[1;33m.\u001b[0m\u001b[0macquire\u001b[0m\u001b[1;33m(\u001b[0m\u001b[1;33m)\u001b[0m\u001b[1;33m\u001b[0m\u001b[1;33m\u001b[0m\u001b[0m\n\u001b[0m\u001b[0;32m    296\u001b[0m                 \u001b[0mgotit\u001b[0m \u001b[1;33m=\u001b[0m \u001b[1;32mTrue\u001b[0m\u001b[1;33m\u001b[0m\u001b[1;33m\u001b[0m\u001b[0m\n\u001b[0;32m    297\u001b[0m             \u001b[1;32melse\u001b[0m\u001b[1;33m:\u001b[0m\u001b[1;33m\u001b[0m\u001b[1;33m\u001b[0m\u001b[0m\n",
      "\u001b[1;31mKeyboardInterrupt\u001b[0m: "
     ]
    }
   ],
   "source": [
    "from sklearn.ensemble import RandomForestClassifier\n",
    "from sklearn.model_selection import GridSearchCV\n",
    "from sklearn.metrics import make_scorer\n",
    "\n",
    "cv = StratifiedKFold(n_splits = 5, shuffle=True, random_state = random_state)\n",
    "\n",
    "rdf = RandomForestClassifier(random_state = random_state) \n",
    "scoring = {'Recall': make_scorer(recall_score),\n",
    "           'f1_score': make_scorer(f1_score)\n",
    "          }\n",
    "\n",
    "params = {'max_depth': [6, 8, 10, 20], \n",
    "              'min_samples_split': [5, 10, 15],\n",
    "              'min_samples_leaf' : [4, 8, 12],\n",
    "              'n_estimators' : [300, 400, 500]\n",
    "             }\n",
    "\n",
    "grid_clf = GridSearchCV(estimator = rdf, param_grid = params, cv = cv, n_jobs=-1, verbose=4)\n",
    "grid_clf.fit(X_train, y_train)"
   ]
  }
 ],
 "metadata": {
  "kernelspec": {
   "display_name": "Python 3",
   "language": "python",
   "name": "python3"
  },
  "language_info": {
   "codemirror_mode": {
    "name": "ipython",
    "version": 3
   },
   "file_extension": ".py",
   "mimetype": "text/x-python",
   "name": "python",
   "nbconvert_exporter": "python",
   "pygments_lexer": "ipython3",
   "version": "3.6.10"
  }
 },
 "nbformat": 4,
 "nbformat_minor": 4
}
