{
 "cells": [
  {
   "cell_type": "code",
   "execution_count": 1,
   "metadata": {},
   "outputs": [],
   "source": [
    "import sys"
   ]
  },
  {
   "cell_type": "code",
   "execution_count": 3,
   "metadata": {},
   "outputs": [],
   "source": [
    "import sklearn as sl\n",
    "import pandas as pd\n",
    "import numpy as np\n",
    "import matplotlib.pyplot as plt\n",
    "import seaborn as sns\n",
    "from sqlalchemy import create_engine\n",
    "%matplotlib inline\n",
    "%load_ext sql"
   ]
  },
  {
   "cell_type": "code",
   "execution_count": 4,
   "metadata": {},
   "outputs": [],
   "source": [
    "# connect your notebook with remote postgres database\n",
    "%sql "
   ]
  },
  {
   "cell_type": "code",
   "execution_count": 5,
   "metadata": {},
   "outputs": [],
   "source": [
    "# create an engine to run sql code in notebook\n",
    "engine = create_engine('')"
   ]
  },
  {
   "cell_type": "code",
   "execution_count": 6,
   "metadata": {},
   "outputs": [],
   "source": [
    "# load data\n",
    "df_w=pd.read_sql('SELECT * FROM wildfire.combined WHERE extract(year from fpi_date)!=2015',engine)\n",
    "df_test_w=pd.read_sql('SELECT * FROM wildfire.combined WHERE extract(year from fpi_date)=2015',engine)"
   ]
  },
  {
   "cell_type": "code",
   "execution_count": 7,
   "metadata": {},
   "outputs": [],
   "source": [
    "# fill missing\n",
    "df_wfn=df_w.fillna(value=-1)\n",
    "df_test_wfn=df_test_w.fillna(value=-1)"
   ]
  },
  {
   "cell_type": "code",
   "execution_count": 9,
   "metadata": {},
   "outputs": [],
   "source": [
    "X_train_w=df_wfn[['lat_rnd', 'lon_rnd','max_fpi','min_fpi', 'avg_fpi','std_fpi','elevation','daily_ref_evapotrans_mm',\n",
    "       'hundred_hour_dead_fuel_moist_percent', 'precip_amount_mm','eng_release_comp_nfdrs','burning_index_nfdrs',\n",
    "       'max_relative_humidity_percent', 'min_relative_humidity_percent',\n",
    "       'specific_humidity_kg_kg', 'srad_wmm', 'temp_min_k', 'temp_max_k',\n",
    "       'mean_vapor_pressure_deficit_kpa', 'wind_speed_10m_m_s']]\n",
    "y_train_w=df_wfn['fire_occurrence']\n",
    "X_test_w=df_test_wfn[['lat_rnd', 'lon_rnd','max_fpi','min_fpi', 'avg_fpi','std_fpi','elevation','daily_ref_evapotrans_mm',\n",
    "       'hundred_hour_dead_fuel_moist_percent', 'precip_amount_mm','eng_release_comp_nfdrs','burning_index_nfdrs',\n",
    "       'max_relative_humidity_percent', 'min_relative_humidity_percent',\n",
    "       'specific_humidity_kg_kg', 'srad_wmm', 'temp_min_k', 'temp_max_k',\n",
    "       'mean_vapor_pressure_deficit_kpa', 'wind_speed_10m_m_s']]\n",
    "y_test_w=df_test_wfn['fire_occurrence']"
   ]
  },
  {
   "cell_type": "code",
   "execution_count": 10,
   "metadata": {},
   "outputs": [],
   "source": [
    "# SMOTE\n",
    "from imblearn.over_sampling import SMOTE\n",
    "sm=SMOTE(random_state=10)\n",
    "X_train_wsm, y_train_wsm=sm.fit_sample(X_train_w,y_train_w)"
   ]
  },
  {
   "cell_type": "code",
   "execution_count": 11,
   "metadata": {},
   "outputs": [
    {
     "data": {
      "text/plain": [
       "GradientBoostingClassifier(n_estimators=30)"
      ]
     },
     "execution_count": 11,
     "metadata": {},
     "output_type": "execute_result"
    }
   ],
   "source": [
    "# Gradient boosting\n",
    "from sklearn.ensemble import GradientBoostingClassifier\n",
    "GB=GradientBoostingClassifier(n_estimators=30)\n",
    "GB.fit(X_train_wsm,y_train_wsm)"
   ]
  },
  {
   "cell_type": "code",
   "execution_count": 12,
   "metadata": {},
   "outputs": [],
   "source": [
    "# Prediction\n",
    "gb_wpreds=GB.predict(X_test_w)\n",
    "gb_wprob=GB.predict_proba(X_test_w)"
   ]
  },
  {
   "cell_type": "code",
   "execution_count": null,
   "metadata": {},
   "outputs": [],
   "source": [
    "# write Prediction dataframe\n",
    "new_df=df_test_w.iloc[:,0:3]\n",
    "gb_prob=pd.DataFrame(gb_wprob, columns=['0','1'])\n",
    "new_df=pd.concat([new_df, gb_prob], axis=1)\n",
    "new_df.to_csv('dva.csv',index=False)"
   ]
  },
  {
   "cell_type": "code",
   "execution_count": 14,
   "metadata": {},
   "outputs": [
    {
     "name": "stdout",
     "output_type": "stream",
     "text": [
      "              precision    recall  f1-score   support\n",
      "\n",
      "           0       1.00      0.53      0.69    516428\n",
      "           1       0.01      0.81      0.02      3658\n",
      "\n",
      "    accuracy                           0.53    520086\n",
      "   macro avg       0.50      0.67      0.36    520086\n",
      "weighted avg       0.99      0.53      0.69    520086\n",
      "\n",
      "[[275008 241420]\n",
      " [   708   2950]]\n"
     ]
    }
   ],
   "source": [
    "# Code Conner Added\n",
    "from sklearn.metrics import confusion_matrix, classification_report\n",
    "print(classification_report(y_test_w, gb_wpreds))\n",
    "print(confusion_matrix(y_test_w, gb_wpreds))"
   ]
  },
  {
   "cell_type": "code",
   "execution_count": null,
   "metadata": {},
   "outputs": [],
   "source": []
  }
 ],
 "metadata": {
  "kernelspec": {
   "display_name": "Python 3",
   "language": "python",
   "name": "python3"
  },
  "language_info": {
   "codemirror_mode": {
    "name": "ipython",
    "version": 3
   },
   "file_extension": ".py",
   "mimetype": "text/x-python",
   "name": "python",
   "nbconvert_exporter": "python",
   "pygments_lexer": "ipython3",
   "version": "3.8.5"
  }
 },
 "nbformat": 4,
 "nbformat_minor": 4
}
