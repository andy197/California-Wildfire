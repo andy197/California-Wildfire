{
 "cells": [
  {
   "cell_type": "code",
   "execution_count": 20,
   "metadata": {},
   "outputs": [],
   "source": [
    "username = \"\"\n",
    "passwd = \"XXXXXXXXX\"\n",
    "host_name = \"\"\n",
    "port_num = 5432\n",
    "dbname = \"cse6242\""
   ]
  },
  {
   "cell_type": "code",
   "execution_count": 21,
   "metadata": {},
   "outputs": [],
   "source": [
    "#import all packages used for code\n",
    "\n",
    "import sklearn as sklearn\n",
    "from sklearn.svm import LinearSVC\n",
    "from sklearn.neural_network import MLPClassifier\n",
    "from sklearn.exceptions import ConvergenceWarning\n",
    "from sklearn.metrics import classification_report\n",
    "from sklearn.metrics import confusion_matrix\n",
    "import warnings\n",
    "import psycopg2\n",
    "import pandas as pd\n",
    "import numpy as np"
   ]
  },
  {
   "cell_type": "code",
   "execution_count": 22,
   "metadata": {},
   "outputs": [],
   "source": [
    "#variables for testing\n",
    "cs = [0.1, 1, 10, 100, 1000]\n",
    "#c = 0.1\n",
    "LRI = 0.0001\n",
    "rs = 27\n",
    "class_weight = dict({0:1, 1:80})"
   ]
  },
  {
   "cell_type": "code",
   "execution_count": 23,
   "metadata": {},
   "outputs": [],
   "source": [
    "#database connection to Conner's PostgreSQL setup\n",
    "def get_conn():\n",
    "    conn = psycopg2.connect(\n",
    "        user=username,\n",
    "        password=passwd,\n",
    "        host=host_name,\n",
    "        port=port_num,\n",
    "        database=dbname\n",
    "    )\n",
    "    \n",
    "    return conn"
   ]
  },
  {
   "cell_type": "code",
   "execution_count": 5,
   "metadata": {},
   "outputs": [],
   "source": [
    "#remove NaN and infinite values from dataset\n",
    "def clean_dataset(df):\n",
    "    assert isinstance(df, pd.DataFrame), \"df needs to be a pd.DataFrame\"\n",
    "    df.dropna(inplace=True)\n",
    "    indices_to_keep = ~df.isin([np.nan, np.inf, -np.inf]).any(1)\n",
    "    return df[indices_to_keep].astype(np.float64)"
   ]
  },
  {
   "cell_type": "code",
   "execution_count": 6,
   "metadata": {},
   "outputs": [],
   "source": [
    "#SVM code block\n",
    "#reference code/example: https://towardsdatascience.com/support-vector-machine-python-example-d67d9b63f1c8\n",
    "def SVM_model(x_train, x_test, y_train, y_test, cs, rs):\n",
    "\n",
    "    #best_c = []\n",
    "\n",
    "    for c in cs:\n",
    "        svc = LinearSVC(dual = False, C=c, random_state = rs, class_weight=class_weight)\n",
    "        svc.fit(x_train, y_train)\n",
    "        y_test_pred = svc.predict(x_test)\n",
    "    #best_c.append(1-((y_test != y_test_pred).sum()/y_test.shape[0]))\n",
    "\n",
    "    #print(\"Accuracy rate for SVM:\", max(best_c), \"with C of\", cs[(best_c.index(max(best_c)))])\n",
    "        print(c)\n",
    "        print(classification_report(y_test,y_test_pred))\n",
    "        print(confusion_matrix(y_test,y_test_pred))\n",
    "    #print(y_test_pred)"
   ]
  },
  {
   "cell_type": "code",
   "execution_count": 35,
   "metadata": {},
   "outputs": [],
   "source": [
    "#neural network code block\n",
    "#reference code/example: https://scikit-learn.org/stable/modules/generated/sklearn.neural_network.MLPClassifier.html\n",
    "def neural_net_model(x_train, x_test, y_train, y_test, rs):\n",
    "\n",
    "    #best_LRI = []\n",
    "\n",
    "    #tune the step size\n",
    "    #for LRI in range(1,1000):\n",
    "    #use LRI from test run - can loop later if desired\n",
    "    #LRI = 0.001\n",
    "    nn_model = MLPClassifier(hidden_layer_sizes=(30, 30, 2), max_iter=500, random_state=rs, \n",
    "                             learning_rate_init = LRI).fit(x_train, y_train)\n",
    "    with warnings.catch_warnings():\n",
    "        warnings.filterwarnings(\"ignore\", category=ConvergenceWarning, module=\"sklearn\")\n",
    "    y_test_pred = nn_model.predict(x_test)\n",
    "    y_test_prob = nn_model.predict_proba(x_test)\n",
    "    #best_LRI.append(1-((y_test != y_test_pred).sum()/y_test.shape[0]))\n",
    "    \n",
    "    #print(\"Accuracy rate for neural network: \", max(best_LRI))\n",
    "    #print(\"The learning rate associated with this is: \", (best_LRI.index(max(best_LRI))+1)/1000)\n",
    "    print(classification_report(y_test,y_test_pred))\n",
    "    print(confusion_matrix(y_test,y_test_pred))\n",
    "    #print(y_test_pred)\n",
    "    return (y_test_pred, y_test_prob)"
   ]
  },
  {
   "cell_type": "code",
   "execution_count": 24,
   "metadata": {},
   "outputs": [],
   "source": [
    "#MAIN CODE BLOCK \n",
    "conn = get_conn(); \n",
    "curr = conn.cursor()"
   ]
  },
  {
   "cell_type": "code",
   "execution_count": null,
   "metadata": {},
   "outputs": [],
   "source": [
    "#temp = '''select count(*) from wildfire.combined'''\n",
    "#print(\"TESTING: {}\".format(temp))\n",
    "#curr.execute(temp)\n",
    "#results = curr.fetchall()\n",
    "#print(\"Total rows are:  \", len(results))\n",
    "#for row in results:\n",
    "#            print(\"Records in combined wildfire dataset: \", row[0])"
   ]
  },
  {
   "cell_type": "code",
   "execution_count": null,
   "metadata": {},
   "outputs": [],
   "source": [
    "#get all July records from the training years, based on prevalence of fire occurrence in July\n",
    "temp = '''select * \n",
    "from cse6242.wildfire.combined c \n",
    "where cast(date_part('month', fpi_date) as INTEGER) = 7 \n",
    "and 2009 <= cast(date_part('year', fpi_date) as integer)\n",
    "and cast(date_part('year', fpi_date) as integer) <= 2014'''\n",
    "curr.execute(temp)\n",
    "results = curr.fetchall()\n",
    "print(\"Total rows are:  \", len(results))\n",
    "#315084 - previously\n",
    "#268956 - 11/2\n",
    "#314712 - 11/4"
   ]
  },
  {
   "cell_type": "code",
   "execution_count": 9,
   "metadata": {},
   "outputs": [
    {
     "name": "stdout",
     "output_type": "stream",
     "text": [
      "Total rows are:   3705780\n"
     ]
    }
   ],
   "source": [
    "#get all records from the training years\n",
    "temp = '''select * \n",
    "from cse6242.wildfire.combined c \n",
    "where 2009 <= cast(date_part('year', fpi_date) as integer)\n",
    "and cast(date_part('year', fpi_date) as integer) <= 2014'''\n",
    "curr.execute(temp)\n",
    "results = curr.fetchall()\n",
    "print(\"Total rows are:  \", len(results))\n",
    "#3705780 - 11/4"
   ]
  },
  {
   "cell_type": "code",
   "execution_count": 10,
   "metadata": {},
   "outputs": [],
   "source": [
    "#convert results from list to column; convert fields to numeric\n",
    "df = pd.DataFrame(results, columns=['lat_rnd', 'lon_rnd', 'fpi_date', 'elevation', 'fire_occurrence', 'max_fpi', 'min_fpi', \n",
    "                                   'avg_fpi', 'std_fpi', 'array_fpi', 'array_fod_lat', 'array_fod_lon', 'array_fpi_lat', \n",
    "                                   'array_fpi_lon', 'array_fod_id', 'rolled_up_rows', 'eng_release_comp_nfdrs', 'burning_index_nfdrs',\n",
    "                                   'daily_ref_evapotrans_mm', 'hundred_hour_dead_fuel_moist_percent', 'precip_amount_mm',\n",
    "                                   'max_relative_humidity_percent', 'min_relative_humidity_percent', 'specific_humidity_kg_kg',\n",
    "                                   'srad_wmm', 'temp_min_k', 'temp_max_k', 'mean_vapor_pressure_deficit_kpa', 'wind_speed_10m_m_s'])\n",
    "df[\"avg_fpi\"] = pd.to_numeric(df.avg_fpi, errors='coerce')\n",
    "df[\"lat_rnd\"] = pd.to_numeric(df.lat_rnd, errors='coerce')\n",
    "df[\"lon_rnd\"] = pd.to_numeric(df.lon_rnd, errors='coerce')\n",
    "df[\"elevation\"] = pd.to_numeric(df.elevation, errors='coerce')\n",
    "df[\"std_fpi\"] = pd.to_numeric(df.std_fpi, errors='coerce')\n",
    "df[\"eng_release_comp_nfdrs\"] = pd.to_numeric(df.eng_release_comp_nfdrs, errors='coerce')\n",
    "df[\"burning_index_nfdrs\"] = pd.to_numeric(df.burning_index_nfdrs, errors='coerce')\n",
    "df[\"daily_ref_evapotrans_mm\"] = pd.to_numeric(df.daily_ref_evapotrans_mm, errors='coerce')\n",
    "df[\"hundred_hour_dead_fuel_moist_percent\"] = pd.to_numeric(df.hundred_hour_dead_fuel_moist_percent, errors='coerce')\n",
    "df[\"precip_amount_mm\"] = pd.to_numeric(df.precip_amount_mm, errors='coerce')\n",
    "df[\"max_relative_humidity_percent\"] = pd.to_numeric(df.max_relative_humidity_percent, errors='coerce')\n",
    "df[\"min_relative_humidity_percent\"] = pd.to_numeric(df.min_relative_humidity_percent, errors='coerce')\n",
    "df[\"specific_humidity_kg_kg\"] = pd.to_numeric(df.specific_humidity_kg_kg, errors='coerce')\n",
    "df[\"srad_wmm\"] = pd.to_numeric(df.srad_wmm, errors='coerce')\n",
    "df[\"temp_min_k\"] = pd.to_numeric(df.temp_min_k, errors='coerce')\n",
    "df[\"temp_max_k\"] = pd.to_numeric(df.temp_max_k, errors='coerce')\n",
    "df[\"mean_vapor_pressure_deficit_kpa\"] = pd.to_numeric(df.mean_vapor_pressure_deficit_kpa, errors='coerce')\n",
    "df[\"wind_speed_10m_m_s\"] = pd.to_numeric(df.wind_speed_10m_m_s, errors='coerce')\n",
    "#print(df)"
   ]
  },
  {
   "cell_type": "code",
   "execution_count": null,
   "metadata": {},
   "outputs": [],
   "source": [
    "#df[['fire_occurrence', 'avg_fpi', 'min_fpi', 'max_fpi']].groupby(['fire_occurrence']).agg(['mean', 'count'])\n",
    "#df.dtypes"
   ]
  },
  {
   "cell_type": "code",
   "execution_count": null,
   "metadata": {},
   "outputs": [],
   "source": [
    "#print(df.head)"
   ]
  },
  {
   "cell_type": "code",
   "execution_count": 11,
   "metadata": {},
   "outputs": [
    {
     "name": "stdout",
     "output_type": "stream",
     "text": [
      "3705780\n"
     ]
    },
    {
     "name": "stderr",
     "output_type": "stream",
     "text": [
      "<ipython-input-5-31de68accbdf>:4: SettingWithCopyWarning: \n",
      "A value is trying to be set on a copy of a slice from a DataFrame\n",
      "\n",
      "See the caveats in the documentation: https://pandas.pydata.org/pandas-docs/stable/user_guide/indexing.html#returning-a-view-versus-a-copy\n",
      "  df.dropna(inplace=True)\n"
     ]
    },
    {
     "name": "stdout",
     "output_type": "stream",
     "text": [
      "3379405\n"
     ]
    }
   ],
   "source": [
    "#create temp dataset with only the numeric features - clean NaN and infinite values\n",
    "df_temp = df[['lat_rnd', 'lon_rnd', 'elevation', 'fire_occurrence', 'max_fpi', 'min_fpi', \n",
    "                                   'avg_fpi', 'std_fpi', 'eng_release_comp_nfdrs', 'burning_index_nfdrs',\n",
    "                                   'daily_ref_evapotrans_mm', 'hundred_hour_dead_fuel_moist_percent', 'precip_amount_mm',\n",
    "                                   'max_relative_humidity_percent', 'min_relative_humidity_percent', 'specific_humidity_kg_kg',\n",
    "                                   'srad_wmm', 'temp_min_k', 'temp_max_k', 'mean_vapor_pressure_deficit_kpa', 'wind_speed_10m_m_s']]\n",
    "\n",
    "print(len(df_temp))\n",
    "#268956 - 11/2\n",
    "#314712 - 11/4\n",
    "clean_dataset(df_temp)\n",
    "print(len(df_temp))\n",
    "#246646 - 11/2\n",
    "#287009 - 11/4\n",
    "\n",
    "#all records - 3705780 to 3379405"
   ]
  },
  {
   "cell_type": "code",
   "execution_count": 17,
   "metadata": {},
   "outputs": [
    {
     "name": "stdout",
     "output_type": "stream",
     "text": [
      "(3379405, 20)\n",
      "(3379405,)\n"
     ]
    }
   ],
   "source": [
    "#split file into training and test samples\n",
    "pred_train, label_train = df_temp[['lat_rnd', 'lon_rnd', 'elevation', 'max_fpi', 'min_fpi', \n",
    "                                   'avg_fpi', 'std_fpi', 'eng_release_comp_nfdrs', 'burning_index_nfdrs',\n",
    "                                   'daily_ref_evapotrans_mm', 'hundred_hour_dead_fuel_moist_percent', 'precip_amount_mm',\n",
    "                                   'max_relative_humidity_percent', 'min_relative_humidity_percent', 'specific_humidity_kg_kg',\n",
    "                                   'srad_wmm', 'temp_min_k', 'temp_max_k', 'mean_vapor_pressure_deficit_kpa', 'wind_speed_10m_m_s']], df_temp.fire_occurrence\n",
    "print(pred_train.shape)\n",
    "#(246646, 20)\n",
    "print(label_train.shape)\n",
    "#(246646, )\n",
    "\n",
    "# 11/4\n",
    "#(287009, 20)\n",
    "#(287009,)"
   ]
  },
  {
   "cell_type": "code",
   "execution_count": null,
   "metadata": {},
   "outputs": [],
   "source": [
    "#get all July records from the test year, based on prevalence of fire occurrence in July\n",
    "temp2 = '''select * \n",
    "from cse6242.wildfire.combined c \n",
    "where cast(date_part('month', fpi_date) as INTEGER) = 7 \n",
    "and cast(date_part('year', fpi_date) as integer) = 2015'''\n",
    "curr.execute(temp2)\n",
    "results2 = curr.fetchall()\n",
    "print(\"Total rows are:  \", len(results2))\n",
    "#44826 - 11/2\n",
    "#52452 - 11/4"
   ]
  },
  {
   "cell_type": "code",
   "execution_count": 25,
   "metadata": {},
   "outputs": [
    {
     "name": "stdout",
     "output_type": "stream",
     "text": [
      "Total rows are:   520086\n"
     ]
    }
   ],
   "source": [
    "#get all records from the test year\n",
    "temp2 = '''select * \n",
    "from cse6242.wildfire.combined c \n",
    "where cast(date_part('year', fpi_date) as integer) = 2015'''\n",
    "curr.execute(temp2)\n",
    "results2 = curr.fetchall()\n",
    "print(\"Total rows are:  \", len(results2))\n",
    "#520086 - 11/4"
   ]
  },
  {
   "cell_type": "code",
   "execution_count": 26,
   "metadata": {},
   "outputs": [],
   "source": [
    "#convert results from list to column; convert fields to numeric\n",
    "df2 = pd.DataFrame(results2, columns=['lat_rnd', 'lon_rnd', 'fpi_date', 'elevation', 'fire_occurrence', 'max_fpi', 'min_fpi', \n",
    "                                   'avg_fpi', 'std_fpi', 'array_fpi', 'array_fod_lat', 'array_fod_lon', 'array_fpi_lat', \n",
    "                                   'array_fpi_lon', 'array_fod_id', 'rolled_up_rows', 'eng_release_comp_nfdrs', 'burning_index_nfdrs',\n",
    "                                   'daily_ref_evapotrans_mm', 'hundred_hour_dead_fuel_moist_percent', 'precip_amount_mm',\n",
    "                                   'max_relative_humidity_percent', 'min_relative_humidity_percent', 'specific_humidity_kg_kg',\n",
    "                                   'srad_wmm', 'temp_min_k', 'temp_max_k', 'mean_vapor_pressure_deficit_kpa', 'wind_speed_10m_m_s'])\n",
    "df2[\"avg_fpi\"] = pd.to_numeric(df2.avg_fpi, errors='coerce')\n",
    "df2[\"lat_rnd\"] = pd.to_numeric(df2.lat_rnd, errors='coerce')\n",
    "df2[\"lon_rnd\"] = pd.to_numeric(df2.lon_rnd, errors='coerce')\n",
    "df2[\"elevation\"] = pd.to_numeric(df2.elevation, errors='coerce')\n",
    "df2[\"std_fpi\"] = pd.to_numeric(df2.std_fpi, errors='coerce')\n",
    "df2[\"eng_release_comp_nfdrs\"] = pd.to_numeric(df2.eng_release_comp_nfdrs, errors='coerce')\n",
    "df2[\"burning_index_nfdrs\"] = pd.to_numeric(df2.burning_index_nfdrs, errors='coerce')\n",
    "df2[\"daily_ref_evapotrans_mm\"] = pd.to_numeric(df2.daily_ref_evapotrans_mm, errors='coerce')\n",
    "df2[\"hundred_hour_dead_fuel_moist_percent\"] = pd.to_numeric(df2.hundred_hour_dead_fuel_moist_percent, errors='coerce')\n",
    "df2[\"precip_amount_mm\"] = pd.to_numeric(df2.precip_amount_mm, errors='coerce')\n",
    "df2[\"max_relative_humidity_percent\"] = pd.to_numeric(df2.max_relative_humidity_percent, errors='coerce')\n",
    "df2[\"min_relative_humidity_percent\"] = pd.to_numeric(df2.min_relative_humidity_percent, errors='coerce')\n",
    "df2[\"specific_humidity_kg_kg\"] = pd.to_numeric(df2.specific_humidity_kg_kg, errors='coerce')\n",
    "df2[\"srad_wmm\"] = pd.to_numeric(df2.srad_wmm, errors='coerce')\n",
    "df2[\"temp_min_k\"] = pd.to_numeric(df2.temp_min_k, errors='coerce')\n",
    "df2[\"temp_max_k\"] = pd.to_numeric(df2.temp_max_k, errors='coerce')\n",
    "df2[\"mean_vapor_pressure_deficit_kpa\"] = pd.to_numeric(df2.mean_vapor_pressure_deficit_kpa, errors='coerce')\n",
    "df2[\"wind_speed_10m_m_s\"] = pd.to_numeric(df2.wind_speed_10m_m_s, errors='coerce')"
   ]
  },
  {
   "cell_type": "code",
   "execution_count": 27,
   "metadata": {},
   "outputs": [
    {
     "name": "stdout",
     "output_type": "stream",
     "text": [
      "520086\n"
     ]
    },
    {
     "name": "stderr",
     "output_type": "stream",
     "text": [
      "<ipython-input-5-31de68accbdf>:4: SettingWithCopyWarning: \n",
      "A value is trying to be set on a copy of a slice from a DataFrame\n",
      "\n",
      "See the caveats in the documentation: https://pandas.pydata.org/pandas-docs/stable/user_guide/indexing.html#returning-a-view-versus-a-copy\n",
      "  df.dropna(inplace=True)\n"
     ]
    },
    {
     "name": "stdout",
     "output_type": "stream",
     "text": [
      "474084\n"
     ]
    }
   ],
   "source": [
    "#create temp dataset with only the numeric features - clean NaN and infinite values\n",
    "df2_temp = df2[['lat_rnd', 'lon_rnd', 'elevation', 'fire_occurrence', 'max_fpi', 'min_fpi', \n",
    "                                   'avg_fpi', 'std_fpi', 'eng_release_comp_nfdrs', 'burning_index_nfdrs',\n",
    "                                   'daily_ref_evapotrans_mm', 'hundred_hour_dead_fuel_moist_percent', 'precip_amount_mm',\n",
    "                                   'max_relative_humidity_percent', 'min_relative_humidity_percent', 'specific_humidity_kg_kg',\n",
    "                                   'srad_wmm', 'temp_min_k', 'temp_max_k', 'mean_vapor_pressure_deficit_kpa', 'wind_speed_10m_m_s']]\n",
    "\n",
    "print(len(df2_temp))\n",
    "#44826 - 11/2\n",
    "#52452 - 11/4\n",
    "clean_dataset(df2_temp)\n",
    "print(len(df2_temp))\n",
    "#41109 - 11/2\n",
    "#47837 - 11/4\n",
    "\n",
    "#all records\n",
    "#520086\n",
    "#474084"
   ]
  },
  {
   "cell_type": "code",
   "execution_count": 28,
   "metadata": {},
   "outputs": [
    {
     "name": "stdout",
     "output_type": "stream",
     "text": [
      "(474084, 20)\n",
      "(474084,)\n"
     ]
    }
   ],
   "source": [
    "#split into test and label\n",
    "pred_test, label_test = df2_temp[['lat_rnd', 'lon_rnd', 'elevation', 'max_fpi', 'min_fpi', \n",
    "                                   'avg_fpi', 'std_fpi', 'eng_release_comp_nfdrs', 'burning_index_nfdrs',\n",
    "                                   'daily_ref_evapotrans_mm', 'hundred_hour_dead_fuel_moist_percent', 'precip_amount_mm',\n",
    "                                   'max_relative_humidity_percent', 'min_relative_humidity_percent', 'specific_humidity_kg_kg',\n",
    "                                   'srad_wmm', 'temp_min_k', 'temp_max_k', 'mean_vapor_pressure_deficit_kpa', 'wind_speed_10m_m_s']], df2_temp.fire_occurrence\n",
    "print(pred_test.shape)\n",
    "#(41109, 20)\n",
    "print(label_test.shape)\n",
    "#(41109,)\n",
    "\n",
    "#11/4\n",
    "#(47837, 20)\n",
    "#(47837,)"
   ]
  },
  {
   "cell_type": "code",
   "execution_count": null,
   "metadata": {},
   "outputs": [],
   "source": [
    "#run SVM\n",
    "SVM_model(pred_train, pred_test, label_train, label_test, cs, rs)"
   ]
  },
  {
   "cell_type": "code",
   "execution_count": null,
   "metadata": {},
   "outputs": [],
   "source": [
    "#run neural network - without weights it predicts everything as not a fire\n",
    "neural_net_model(pred_train, pred_test, label_train, label_test, rs)"
   ]
  },
  {
   "cell_type": "code",
   "execution_count": 29,
   "metadata": {
    "scrolled": true
   },
   "outputs": [
    {
     "name": "stdout",
     "output_type": "stream",
     "text": [
      "fire_occurrence\n",
      "0    3361152\n",
      "1      18253\n",
      "dtype: int64\n",
      "fire_occurrence\n",
      "0    18253\n",
      "1    18253\n",
      "dtype: int64\n",
      "fire_occurrence\n",
      "0    3361152\n",
      "1    3361152\n",
      "dtype: int64\n"
     ]
    }
   ],
   "source": [
    "#oversample/undersample dataset \n",
    "print(df_temp.groupby([\"fire_occurrence\"]).size())\n",
    "\n",
    "# class count\n",
    "count_class_0, count_class_1 = df_temp.fire_occurrence.value_counts()\n",
    "\n",
    "# divide by class\n",
    "df_class_0 = df_temp[df_temp['fire_occurrence'] == 0]\n",
    "df_class_1 = df_temp[df_temp['fire_occurrence'] == 1]\n",
    "\n",
    "# undersample\n",
    "df_class_0_under = df_class_0.sample(count_class_1)\n",
    "df_test_under = pd.concat([df_class_0_under, df_class_1], axis=0)\n",
    "print(df_test_under.groupby([\"fire_occurrence\"]).size())\n",
    "\n",
    "#split file into training and test samples\n",
    "pred_train_under, label_train_under = df_test_under[['lat_rnd', 'lon_rnd', 'elevation', 'max_fpi', 'min_fpi', \n",
    "                                   'avg_fpi', 'std_fpi', 'eng_release_comp_nfdrs', 'burning_index_nfdrs',\n",
    "                                   'daily_ref_evapotrans_mm', 'hundred_hour_dead_fuel_moist_percent', 'precip_amount_mm',\n",
    "                                   'max_relative_humidity_percent', 'min_relative_humidity_percent', 'specific_humidity_kg_kg',\n",
    "                                   'srad_wmm', 'temp_min_k', 'temp_max_k', 'mean_vapor_pressure_deficit_kpa', 'wind_speed_10m_m_s']], df_test_under.fire_occurrence\n",
    "\n",
    "# oversample\n",
    "df_class_1_over = df_class_1.sample(count_class_0, replace=True)\n",
    "df_test_over = pd.concat([df_class_0, df_class_1_over], axis=0)\n",
    "print(df_test_over.groupby([\"fire_occurrence\"]).size())\n",
    "\n",
    "#split file into training and test samples\n",
    "pred_train_over, label_train_over = df_test_over[['lat_rnd', 'lon_rnd', 'elevation', 'max_fpi', 'min_fpi', \n",
    "                                   'avg_fpi', 'std_fpi', 'eng_release_comp_nfdrs', 'burning_index_nfdrs',\n",
    "                                   'daily_ref_evapotrans_mm', 'hundred_hour_dead_fuel_moist_percent', 'precip_amount_mm',\n",
    "                                   'max_relative_humidity_percent', 'min_relative_humidity_percent', 'specific_humidity_kg_kg',\n",
    "                                   'srad_wmm', 'temp_min_k', 'temp_max_k', 'mean_vapor_pressure_deficit_kpa', 'wind_speed_10m_m_s']], df_test_over.fire_occurrence\n",
    "\n",
    "#fire_occurrence - 11/2\n",
    "#0    243230\n",
    "#1      3416\n",
    "\n",
    "#fire_occurrence - 11/4\n",
    "#0    283249\n",
    "#1      3760\n",
    "\n",
    "#all records - 11/4\n",
    "#fire_occurrence\n",
    "#0    3361152\n",
    "#1      18253"
   ]
  },
  {
   "cell_type": "code",
   "execution_count": null,
   "metadata": {},
   "outputs": [],
   "source": [
    "#run neural network - undersampling - tends to predict all of one category or the other, depending on learning rate\n",
    "neural_net_model(pred_train_under, pred_test, label_train_under, label_test, rs)"
   ]
  },
  {
   "cell_type": "code",
   "execution_count": 36,
   "metadata": {},
   "outputs": [
    {
     "name": "stdout",
     "output_type": "stream",
     "text": [
      "              precision    recall  f1-score   support\n",
      "\n",
      "           0       1.00      0.60      0.75    470685\n",
      "           1       0.01      0.75      0.03      3399\n",
      "\n",
      "    accuracy                           0.60    474084\n",
      "   macro avg       0.51      0.68      0.39    474084\n",
      "weighted avg       0.99      0.60      0.75    474084\n",
      "\n",
      "[[284096 186589]\n",
      " [   853   2546]]\n"
     ]
    }
   ],
   "source": [
    "#run neural network - oversampling\n",
    "y_test_pred_over, y_test_prob_over = neural_net_model(pred_train_over, pred_test, label_train_over, label_test, rs)"
   ]
  },
  {
   "cell_type": "code",
   "execution_count": 39,
   "metadata": {},
   "outputs": [
    {
     "name": "stdout",
     "output_type": "stream",
     "text": [
      "              precision    recall  f1-score   support\n",
      "\n",
      "           0       1.00      0.60      0.75    470685\n",
      "           1       0.01      0.75      0.03      3399\n",
      "\n",
      "    accuracy                           0.60    474084\n",
      "   macro avg       0.51      0.68      0.39    474084\n",
      "weighted avg       0.99      0.60      0.75    474084\n",
      "\n",
      "[[284096 186589]\n",
      " [   853   2546]]\n"
     ]
    }
   ],
   "source": [
    "print(classification_report(label_test,y_test_pred_over))\n",
    "print(confusion_matrix(label_test,y_test_pred_over))"
   ]
  },
  {
   "cell_type": "code",
   "execution_count": 45,
   "metadata": {},
   "outputs": [
    {
     "name": "stdout",
     "output_type": "stream",
     "text": [
      "474084\n",
      "520086\n",
      "474084\n",
      "474084\n",
      "474084\n"
     ]
    }
   ],
   "source": [
    "temp_1 = pred_test[['lat_rnd', 'lon_rnd']]\n",
    "print(len(temp_1))\n",
    "temp_2 = df2[['fpi_date']]\n",
    "print(len(temp_2))\n",
    "print(len(label_test))\n",
    "print(len(y_test_pred_over))\n",
    "print(len(y_test_prob_over))"
   ]
  },
  {
   "cell_type": "code",
   "execution_count": 46,
   "metadata": {},
   "outputs": [
    {
     "name": "stdout",
     "output_type": "stream",
     "text": [
      "474084\n"
     ]
    }
   ],
   "source": [
    "#merge fpi_date back into file\n",
    "temp_1 = pd.merge(pred_test, df2,  how='left', left_on=['lat_rnd', 'lon_rnd', 'elevation', 'max_fpi', 'min_fpi', \n",
    "                                   'avg_fpi', 'std_fpi', 'eng_release_comp_nfdrs', 'burning_index_nfdrs',\n",
    "                                   'daily_ref_evapotrans_mm', 'hundred_hour_dead_fuel_moist_percent', 'precip_amount_mm',\n",
    "                                   'max_relative_humidity_percent', 'min_relative_humidity_percent', 'specific_humidity_kg_kg',\n",
    "                                   'srad_wmm', 'temp_min_k', 'temp_max_k', 'mean_vapor_pressure_deficit_kpa', 'wind_speed_10m_m_s'], \n",
    "                  right_on = ['lat_rnd', 'lon_rnd', 'elevation', 'max_fpi', 'min_fpi', \n",
    "                                   'avg_fpi', 'std_fpi', 'eng_release_comp_nfdrs', 'burning_index_nfdrs',\n",
    "                                   'daily_ref_evapotrans_mm', 'hundred_hour_dead_fuel_moist_percent', 'precip_amount_mm',\n",
    "                                   'max_relative_humidity_percent', 'min_relative_humidity_percent', 'specific_humidity_kg_kg',\n",
    "                                   'srad_wmm', 'temp_min_k', 'temp_max_k', 'mean_vapor_pressure_deficit_kpa', 'wind_speed_10m_m_s'])\n",
    "print(len(temp_1))\n"
   ]
  },
  {
   "cell_type": "code",
   "execution_count": 48,
   "metadata": {},
   "outputs": [
    {
     "name": "stdout",
     "output_type": "stream",
     "text": [
      "lat_rnd\n",
      "lon_rnd\n",
      "elevation\n",
      "max_fpi\n",
      "min_fpi\n",
      "avg_fpi\n",
      "std_fpi\n",
      "eng_release_comp_nfdrs\n",
      "burning_index_nfdrs\n",
      "daily_ref_evapotrans_mm\n",
      "hundred_hour_dead_fuel_moist_percent\n",
      "precip_amount_mm\n",
      "max_relative_humidity_percent\n",
      "min_relative_humidity_percent\n",
      "specific_humidity_kg_kg\n",
      "srad_wmm\n",
      "temp_min_k\n",
      "temp_max_k\n",
      "mean_vapor_pressure_deficit_kpa\n",
      "wind_speed_10m_m_s\n",
      "fpi_date\n",
      "fire_occurrence\n",
      "array_fpi\n",
      "array_fod_lat\n",
      "array_fod_lon\n",
      "array_fpi_lat\n",
      "array_fpi_lon\n",
      "array_fod_id\n",
      "rolled_up_rows\n"
     ]
    }
   ],
   "source": [
    "for col in temp_1.columns: \n",
    "    print(col) "
   ]
  },
  {
   "cell_type": "code",
   "execution_count": 49,
   "metadata": {},
   "outputs": [
    {
     "name": "stdout",
     "output_type": "stream",
     "text": [
      "   0\n",
      "0  0\n",
      "1  0\n",
      "2  0\n",
      "3  0\n",
      "4  0\n",
      "          0         1\n",
      "0  0.937930  0.062070\n",
      "1  0.954549  0.045451\n",
      "2  0.962469  0.037531\n",
      "3  0.927775  0.072225\n",
      "4  0.900055  0.099945\n"
     ]
    }
   ],
   "source": [
    "yt_pred_o = pd.DataFrame(y_test_pred_over)\n",
    "print(yt_pred_o.head())\n",
    "yt_prob_o = pd.DataFrame(y_test_prob_over)\n",
    "print(yt_prob_o.head())"
   ]
  },
  {
   "cell_type": "code",
   "execution_count": 57,
   "metadata": {},
   "outputs": [
    {
     "name": "stdout",
     "output_type": "stream",
     "text": [
      "474084\n"
     ]
    }
   ],
   "source": [
    "#create final file to load back to the database\n",
    "final_file = pd.concat([temp_1, yt_pred_o, yt_prob_o], axis=1)\n",
    "final_file.columns = [*final_file.columns[:-3], 'fire_0_1', 'prob_no_fire', 'prob_fire']\n",
    "print(len(final_file))"
   ]
  },
  {
   "cell_type": "code",
   "execution_count": 58,
   "metadata": {},
   "outputs": [
    {
     "data": {
      "text/html": [
       "<div>\n",
       "<style scoped>\n",
       "    .dataframe tbody tr th:only-of-type {\n",
       "        vertical-align: middle;\n",
       "    }\n",
       "\n",
       "    .dataframe tbody tr th {\n",
       "        vertical-align: top;\n",
       "    }\n",
       "\n",
       "    .dataframe thead th {\n",
       "        text-align: right;\n",
       "    }\n",
       "</style>\n",
       "<table border=\"1\" class=\"dataframe\">\n",
       "  <thead>\n",
       "    <tr style=\"text-align: right;\">\n",
       "      <th></th>\n",
       "      <th>lat_rnd</th>\n",
       "      <th>lon_rnd</th>\n",
       "      <th>elevation</th>\n",
       "      <th>max_fpi</th>\n",
       "      <th>min_fpi</th>\n",
       "      <th>avg_fpi</th>\n",
       "      <th>std_fpi</th>\n",
       "      <th>eng_release_comp_nfdrs</th>\n",
       "      <th>burning_index_nfdrs</th>\n",
       "      <th>daily_ref_evapotrans_mm</th>\n",
       "      <th>...</th>\n",
       "      <th>array_fpi</th>\n",
       "      <th>array_fod_lat</th>\n",
       "      <th>array_fod_lon</th>\n",
       "      <th>array_fpi_lat</th>\n",
       "      <th>array_fpi_lon</th>\n",
       "      <th>array_fod_id</th>\n",
       "      <th>rolled_up_rows</th>\n",
       "      <th>fire_0_1</th>\n",
       "      <th>prob_no_fire</th>\n",
       "      <th>prob_fire</th>\n",
       "    </tr>\n",
       "  </thead>\n",
       "  <tbody>\n",
       "    <tr>\n",
       "      <th>0</th>\n",
       "      <td>40.7</td>\n",
       "      <td>-123.3</td>\n",
       "      <td>1016.0</td>\n",
       "      <td>57</td>\n",
       "      <td>26</td>\n",
       "      <td>39.8</td>\n",
       "      <td>14.237275</td>\n",
       "      <td>19.705276</td>\n",
       "      <td>19.819588</td>\n",
       "      <td>1.497113</td>\n",
       "      <td>...</td>\n",
       "      <td>[26, 34, 53, 29, 57]</td>\n",
       "      <td>[None, None, None, None, None]</td>\n",
       "      <td>[None, None, None, None, None]</td>\n",
       "      <td>[40.743241932293870, 40.700473803027826, 40.73...</td>\n",
       "      <td>[-123.286037803384490, -123.270044402702180, -...</td>\n",
       "      <td>[None, None, None, None, None]</td>\n",
       "      <td>5</td>\n",
       "      <td>0</td>\n",
       "      <td>0.937930</td>\n",
       "      <td>0.062070</td>\n",
       "    </tr>\n",
       "    <tr>\n",
       "      <th>1</th>\n",
       "      <td>40.7</td>\n",
       "      <td>-123.3</td>\n",
       "      <td>1016.0</td>\n",
       "      <td>51</td>\n",
       "      <td>23</td>\n",
       "      <td>35.0</td>\n",
       "      <td>12.308534</td>\n",
       "      <td>20.867733</td>\n",
       "      <td>19.483749</td>\n",
       "      <td>1.419412</td>\n",
       "      <td>...</td>\n",
       "      <td>[51, 26, 45, 30, 23]</td>\n",
       "      <td>[None, None, None, None, None]</td>\n",
       "      <td>[None, None, None, None, None]</td>\n",
       "      <td>[40.657701014201320, 40.687850895111770, 40.73...</td>\n",
       "      <td>[-123.254081558565290, -123.327681845259000, -...</td>\n",
       "      <td>[None, None, None, None, None]</td>\n",
       "      <td>5</td>\n",
       "      <td>0</td>\n",
       "      <td>0.954549</td>\n",
       "      <td>0.045451</td>\n",
       "    </tr>\n",
       "    <tr>\n",
       "      <th>2</th>\n",
       "      <td>40.7</td>\n",
       "      <td>-123.3</td>\n",
       "      <td>1016.0</td>\n",
       "      <td>51</td>\n",
       "      <td>21</td>\n",
       "      <td>34.6</td>\n",
       "      <td>12.817956</td>\n",
       "      <td>21.155521</td>\n",
       "      <td>18.015545</td>\n",
       "      <td>1.241357</td>\n",
       "      <td>...</td>\n",
       "      <td>[21, 30, 45, 26, 51]</td>\n",
       "      <td>[None, None, None, None, None]</td>\n",
       "      <td>[None, None, None, None, None]</td>\n",
       "      <td>[40.743241932293870, 40.700473803027826, 40.73...</td>\n",
       "      <td>[-123.286037803384490, -123.270044402702180, -...</td>\n",
       "      <td>[None, None, None, None, None]</td>\n",
       "      <td>5</td>\n",
       "      <td>0</td>\n",
       "      <td>0.962469</td>\n",
       "      <td>0.037531</td>\n",
       "    </tr>\n",
       "    <tr>\n",
       "      <th>3</th>\n",
       "      <td>40.7</td>\n",
       "      <td>-123.3</td>\n",
       "      <td>1016.0</td>\n",
       "      <td>45</td>\n",
       "      <td>20</td>\n",
       "      <td>29.8</td>\n",
       "      <td>10.497619</td>\n",
       "      <td>24.596600</td>\n",
       "      <td>19.229677</td>\n",
       "      <td>1.406137</td>\n",
       "      <td>...</td>\n",
       "      <td>[45, 22, 36, 26, 20]</td>\n",
       "      <td>[None, None, None, None, None]</td>\n",
       "      <td>[None, None, None, None, None]</td>\n",
       "      <td>[40.657701014201320, 40.687850895111770, 40.73...</td>\n",
       "      <td>[-123.254081558565290, -123.327681845259000, -...</td>\n",
       "      <td>[None, None, None, None, None]</td>\n",
       "      <td>5</td>\n",
       "      <td>0</td>\n",
       "      <td>0.927775</td>\n",
       "      <td>0.072225</td>\n",
       "    </tr>\n",
       "    <tr>\n",
       "      <th>4</th>\n",
       "      <td>40.7</td>\n",
       "      <td>-123.3</td>\n",
       "      <td>1016.0</td>\n",
       "      <td>45</td>\n",
       "      <td>20</td>\n",
       "      <td>30.4</td>\n",
       "      <td>11.013628</td>\n",
       "      <td>26.511387</td>\n",
       "      <td>21.549990</td>\n",
       "      <td>1.752219</td>\n",
       "      <td>...</td>\n",
       "      <td>[20, 26, 39, 22, 45]</td>\n",
       "      <td>[None, None, None, None, None]</td>\n",
       "      <td>[None, None, None, None, None]</td>\n",
       "      <td>[40.743241932293870, 40.700473803027826, 40.73...</td>\n",
       "      <td>[-123.286037803384490, -123.270044402702180, -...</td>\n",
       "      <td>[None, None, None, None, None]</td>\n",
       "      <td>5</td>\n",
       "      <td>0</td>\n",
       "      <td>0.900055</td>\n",
       "      <td>0.099945</td>\n",
       "    </tr>\n",
       "  </tbody>\n",
       "</table>\n",
       "<p>5 rows × 32 columns</p>\n",
       "</div>"
      ],
      "text/plain": [
       "   lat_rnd  lon_rnd  elevation  max_fpi  min_fpi  avg_fpi    std_fpi  \\\n",
       "0     40.7   -123.3     1016.0       57       26     39.8  14.237275   \n",
       "1     40.7   -123.3     1016.0       51       23     35.0  12.308534   \n",
       "2     40.7   -123.3     1016.0       51       21     34.6  12.817956   \n",
       "3     40.7   -123.3     1016.0       45       20     29.8  10.497619   \n",
       "4     40.7   -123.3     1016.0       45       20     30.4  11.013628   \n",
       "\n",
       "   eng_release_comp_nfdrs  burning_index_nfdrs  daily_ref_evapotrans_mm  ...  \\\n",
       "0               19.705276            19.819588                 1.497113  ...   \n",
       "1               20.867733            19.483749                 1.419412  ...   \n",
       "2               21.155521            18.015545                 1.241357  ...   \n",
       "3               24.596600            19.229677                 1.406137  ...   \n",
       "4               26.511387            21.549990                 1.752219  ...   \n",
       "\n",
       "              array_fpi                   array_fod_lat  \\\n",
       "0  [26, 34, 53, 29, 57]  [None, None, None, None, None]   \n",
       "1  [51, 26, 45, 30, 23]  [None, None, None, None, None]   \n",
       "2  [21, 30, 45, 26, 51]  [None, None, None, None, None]   \n",
       "3  [45, 22, 36, 26, 20]  [None, None, None, None, None]   \n",
       "4  [20, 26, 39, 22, 45]  [None, None, None, None, None]   \n",
       "\n",
       "                    array_fod_lon  \\\n",
       "0  [None, None, None, None, None]   \n",
       "1  [None, None, None, None, None]   \n",
       "2  [None, None, None, None, None]   \n",
       "3  [None, None, None, None, None]   \n",
       "4  [None, None, None, None, None]   \n",
       "\n",
       "                                       array_fpi_lat  \\\n",
       "0  [40.743241932293870, 40.700473803027826, 40.73...   \n",
       "1  [40.657701014201320, 40.687850895111770, 40.73...   \n",
       "2  [40.743241932293870, 40.700473803027826, 40.73...   \n",
       "3  [40.657701014201320, 40.687850895111770, 40.73...   \n",
       "4  [40.743241932293870, 40.700473803027826, 40.73...   \n",
       "\n",
       "                                       array_fpi_lon  \\\n",
       "0  [-123.286037803384490, -123.270044402702180, -...   \n",
       "1  [-123.254081558565290, -123.327681845259000, -...   \n",
       "2  [-123.286037803384490, -123.270044402702180, -...   \n",
       "3  [-123.254081558565290, -123.327681845259000, -...   \n",
       "4  [-123.286037803384490, -123.270044402702180, -...   \n",
       "\n",
       "                     array_fod_id  rolled_up_rows  fire_0_1  prob_no_fire  \\\n",
       "0  [None, None, None, None, None]               5         0      0.937930   \n",
       "1  [None, None, None, None, None]               5         0      0.954549   \n",
       "2  [None, None, None, None, None]               5         0      0.962469   \n",
       "3  [None, None, None, None, None]               5         0      0.927775   \n",
       "4  [None, None, None, None, None]               5         0      0.900055   \n",
       "\n",
       "   prob_fire  \n",
       "0   0.062070  \n",
       "1   0.045451  \n",
       "2   0.037531  \n",
       "3   0.072225  \n",
       "4   0.099945  \n",
       "\n",
       "[5 rows x 32 columns]"
      ]
     },
     "metadata": {},
     "output_type": "display_data"
    }
   ],
   "source": [
    "display(final_file.head())"
   ]
  },
  {
   "cell_type": "code",
   "execution_count": 53,
   "metadata": {},
   "outputs": [
    {
     "data": {
      "text/html": [
       "<div>\n",
       "<style scoped>\n",
       "    .dataframe tbody tr th:only-of-type {\n",
       "        vertical-align: middle;\n",
       "    }\n",
       "\n",
       "    .dataframe tbody tr th {\n",
       "        vertical-align: top;\n",
       "    }\n",
       "\n",
       "    .dataframe thead th {\n",
       "        text-align: right;\n",
       "    }\n",
       "</style>\n",
       "<table border=\"1\" class=\"dataframe\">\n",
       "  <thead>\n",
       "    <tr style=\"text-align: right;\">\n",
       "      <th></th>\n",
       "      <th>lat_rnd</th>\n",
       "      <th>lon_rnd</th>\n",
       "      <th>fpi_date</th>\n",
       "      <th>elevation</th>\n",
       "      <th>fire_occurrence</th>\n",
       "      <th>max_fpi</th>\n",
       "      <th>min_fpi</th>\n",
       "      <th>avg_fpi</th>\n",
       "      <th>std_fpi</th>\n",
       "      <th>array_fpi</th>\n",
       "      <th>...</th>\n",
       "      <th>hundred_hour_dead_fuel_moist_percent</th>\n",
       "      <th>precip_amount_mm</th>\n",
       "      <th>max_relative_humidity_percent</th>\n",
       "      <th>min_relative_humidity_percent</th>\n",
       "      <th>specific_humidity_kg_kg</th>\n",
       "      <th>srad_wmm</th>\n",
       "      <th>temp_min_k</th>\n",
       "      <th>temp_max_k</th>\n",
       "      <th>mean_vapor_pressure_deficit_kpa</th>\n",
       "      <th>wind_speed_10m_m_s</th>\n",
       "    </tr>\n",
       "  </thead>\n",
       "  <tbody>\n",
       "    <tr>\n",
       "      <th>0</th>\n",
       "      <td>40.7</td>\n",
       "      <td>-123.3</td>\n",
       "      <td>2015-01-01</td>\n",
       "      <td>1016.0</td>\n",
       "      <td>0</td>\n",
       "      <td>57</td>\n",
       "      <td>26</td>\n",
       "      <td>39.8</td>\n",
       "      <td>14.237275</td>\n",
       "      <td>[26, 34, 53, 29, 57]</td>\n",
       "      <td>...</td>\n",
       "      <td>11.481947</td>\n",
       "      <td>0.0</td>\n",
       "      <td>58.605850</td>\n",
       "      <td>27.273724</td>\n",
       "      <td>0.002429</td>\n",
       "      <td>107.015999</td>\n",
       "      <td>271.955597</td>\n",
       "      <td>283.236237</td>\n",
       "      <td>0.548534</td>\n",
       "      <td>2.806858</td>\n",
       "    </tr>\n",
       "    <tr>\n",
       "      <th>1</th>\n",
       "      <td>40.7</td>\n",
       "      <td>-123.3</td>\n",
       "      <td>2015-01-02</td>\n",
       "      <td>1016.0</td>\n",
       "      <td>0</td>\n",
       "      <td>51</td>\n",
       "      <td>23</td>\n",
       "      <td>35.0</td>\n",
       "      <td>12.308534</td>\n",
       "      <td>[51, 26, 45, 30, 23]</td>\n",
       "      <td>...</td>\n",
       "      <td>11.077919</td>\n",
       "      <td>0.0</td>\n",
       "      <td>65.186401</td>\n",
       "      <td>31.685617</td>\n",
       "      <td>0.003043</td>\n",
       "      <td>95.060097</td>\n",
       "      <td>273.564819</td>\n",
       "      <td>284.536346</td>\n",
       "      <td>0.550524</td>\n",
       "      <td>2.538047</td>\n",
       "    </tr>\n",
       "    <tr>\n",
       "      <th>2</th>\n",
       "      <td>40.7</td>\n",
       "      <td>-123.3</td>\n",
       "      <td>2015-01-03</td>\n",
       "      <td>1016.0</td>\n",
       "      <td>0</td>\n",
       "      <td>51</td>\n",
       "      <td>21</td>\n",
       "      <td>34.6</td>\n",
       "      <td>12.817956</td>\n",
       "      <td>[21, 30, 45, 26, 51]</td>\n",
       "      <td>...</td>\n",
       "      <td>11.021162</td>\n",
       "      <td>0.0</td>\n",
       "      <td>68.434296</td>\n",
       "      <td>35.362751</td>\n",
       "      <td>0.003408</td>\n",
       "      <td>79.577179</td>\n",
       "      <td>274.455109</td>\n",
       "      <td>284.705719</td>\n",
       "      <td>0.526123</td>\n",
       "      <td>2.059633</td>\n",
       "    </tr>\n",
       "    <tr>\n",
       "      <th>3</th>\n",
       "      <td>40.7</td>\n",
       "      <td>-123.3</td>\n",
       "      <td>2015-01-04</td>\n",
       "      <td>1016.0</td>\n",
       "      <td>0</td>\n",
       "      <td>45</td>\n",
       "      <td>20</td>\n",
       "      <td>29.8</td>\n",
       "      <td>10.497619</td>\n",
       "      <td>[45, 22, 36, 26, 20]</td>\n",
       "      <td>...</td>\n",
       "      <td>10.255116</td>\n",
       "      <td>0.0</td>\n",
       "      <td>54.518959</td>\n",
       "      <td>26.010502</td>\n",
       "      <td>0.003327</td>\n",
       "      <td>101.118355</td>\n",
       "      <td>277.424683</td>\n",
       "      <td>288.656036</td>\n",
       "      <td>0.817506</td>\n",
       "      <td>1.801588</td>\n",
       "    </tr>\n",
       "    <tr>\n",
       "      <th>4</th>\n",
       "      <td>40.7</td>\n",
       "      <td>-123.3</td>\n",
       "      <td>2015-01-05</td>\n",
       "      <td>1016.0</td>\n",
       "      <td>0</td>\n",
       "      <td>45</td>\n",
       "      <td>20</td>\n",
       "      <td>30.4</td>\n",
       "      <td>11.013628</td>\n",
       "      <td>[20, 26, 39, 22, 45]</td>\n",
       "      <td>...</td>\n",
       "      <td>9.756372</td>\n",
       "      <td>0.0</td>\n",
       "      <td>57.244701</td>\n",
       "      <td>24.564178</td>\n",
       "      <td>0.003659</td>\n",
       "      <td>108.789146</td>\n",
       "      <td>278.075317</td>\n",
       "      <td>290.955292</td>\n",
       "      <td>0.927796</td>\n",
       "      <td>2.239157</td>\n",
       "    </tr>\n",
       "  </tbody>\n",
       "</table>\n",
       "<p>5 rows × 29 columns</p>\n",
       "</div>"
      ],
      "text/plain": [
       "   lat_rnd  lon_rnd    fpi_date  elevation  fire_occurrence  max_fpi  min_fpi  \\\n",
       "0     40.7   -123.3  2015-01-01     1016.0                0       57       26   \n",
       "1     40.7   -123.3  2015-01-02     1016.0                0       51       23   \n",
       "2     40.7   -123.3  2015-01-03     1016.0                0       51       21   \n",
       "3     40.7   -123.3  2015-01-04     1016.0                0       45       20   \n",
       "4     40.7   -123.3  2015-01-05     1016.0                0       45       20   \n",
       "\n",
       "   avg_fpi    std_fpi             array_fpi  ...  \\\n",
       "0     39.8  14.237275  [26, 34, 53, 29, 57]  ...   \n",
       "1     35.0  12.308534  [51, 26, 45, 30, 23]  ...   \n",
       "2     34.6  12.817956  [21, 30, 45, 26, 51]  ...   \n",
       "3     29.8  10.497619  [45, 22, 36, 26, 20]  ...   \n",
       "4     30.4  11.013628  [20, 26, 39, 22, 45]  ...   \n",
       "\n",
       "  hundred_hour_dead_fuel_moist_percent precip_amount_mm  \\\n",
       "0                            11.481947              0.0   \n",
       "1                            11.077919              0.0   \n",
       "2                            11.021162              0.0   \n",
       "3                            10.255116              0.0   \n",
       "4                             9.756372              0.0   \n",
       "\n",
       "  max_relative_humidity_percent min_relative_humidity_percent  \\\n",
       "0                     58.605850                     27.273724   \n",
       "1                     65.186401                     31.685617   \n",
       "2                     68.434296                     35.362751   \n",
       "3                     54.518959                     26.010502   \n",
       "4                     57.244701                     24.564178   \n",
       "\n",
       "  specific_humidity_kg_kg    srad_wmm  temp_min_k  temp_max_k  \\\n",
       "0                0.002429  107.015999  271.955597  283.236237   \n",
       "1                0.003043   95.060097  273.564819  284.536346   \n",
       "2                0.003408   79.577179  274.455109  284.705719   \n",
       "3                0.003327  101.118355  277.424683  288.656036   \n",
       "4                0.003659  108.789146  278.075317  290.955292   \n",
       "\n",
       "   mean_vapor_pressure_deficit_kpa  wind_speed_10m_m_s  \n",
       "0                         0.548534            2.806858  \n",
       "1                         0.550524            2.538047  \n",
       "2                         0.526123            2.059633  \n",
       "3                         0.817506            1.801588  \n",
       "4                         0.927796            2.239157  \n",
       "\n",
       "[5 rows x 29 columns]"
      ]
     },
     "metadata": {},
     "output_type": "display_data"
    }
   ],
   "source": [
    "display(df2.head())"
   ]
  },
  {
   "cell_type": "code",
   "execution_count": 65,
   "metadata": {},
   "outputs": [],
   "source": [
    "#update column names if needed\n",
    "ff = final_file[['lat_rnd','lon_rnd', 'fpi_date', 'fire_0_1', 'prob_no_fire', 'prob_fire', 'fire_occurrence']]\n",
    "ff.index.name = 'row_num'"
   ]
  },
  {
   "cell_type": "code",
   "execution_count": 62,
   "metadata": {},
   "outputs": [
    {
     "name": "stdout",
     "output_type": "stream",
     "text": [
      "              precision    recall  f1-score   support\n",
      "\n",
      "           0       1.00      0.60      0.75    470685\n",
      "           1       0.01      0.75      0.03      3399\n",
      "\n",
      "    accuracy                           0.60    474084\n",
      "   macro avg       0.51      0.68      0.39    474084\n",
      "weighted avg       0.99      0.60      0.75    474084\n",
      "\n",
      "[[284096 186589]\n",
      " [   853   2546]]\n"
     ]
    }
   ],
   "source": [
    "print(classification_report(ff['fire_occurrence'], ff['fire_0_1']))\n",
    "print(confusion_matrix(ff['fire_occurrence'], ff['fire_0_1']))"
   ]
  },
  {
   "cell_type": "code",
   "execution_count": 66,
   "metadata": {
    "scrolled": false
   },
   "outputs": [],
   "source": [
    "#create CSV for file load\n",
    "ff.to_csv('2015_neural_net.csv')"
   ]
  },
  {
   "cell_type": "code",
   "execution_count": 67,
   "metadata": {},
   "outputs": [],
   "source": [
    "    curr.close()"
   ]
  },
  {
   "cell_type": "code",
   "execution_count": null,
   "metadata": {},
   "outputs": [],
   "source": []
  }
 ],
 "metadata": {
  "kernelspec": {
   "display_name": "Python 3",
   "language": "python",
   "name": "python3"
  },
  "language_info": {
   "codemirror_mode": {
    "name": "ipython",
    "version": 3
   },
   "file_extension": ".py",
   "mimetype": "text/x-python",
   "name": "python",
   "nbconvert_exporter": "python",
   "pygments_lexer": "ipython3",
   "version": "3.8.5"
  }
 },
 "nbformat": 4,
 "nbformat_minor": 4
}
